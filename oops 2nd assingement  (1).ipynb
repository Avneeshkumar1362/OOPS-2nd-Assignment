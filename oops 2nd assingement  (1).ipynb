{
 "cells": [
  {
   "cell_type": "markdown",
   "id": "4d8fde88-ed01-4879-8a04-9633bf144ced",
   "metadata": {},
   "source": [
    "## 1. What is a constructor in Python? Explain its purpose and usage.\n"
   ]
  },
  {
   "cell_type": "markdown",
   "id": "ec2d73c5-6cb5-4c8a-8403-96b1b57cc4a1",
   "metadata": {},
   "source": [
    "#### - Inside the python init basicaly `(__init__)`: called as constracter .constracter is nothing but a kind of method by which you will be able to provide a data to your class for a diffrent - diffrent object. use of this init function to initilize my object variable with some data so this is role and responsibility of init function."
   ]
  },
  {
   "cell_type": "code",
   "execution_count": 53,
   "id": "c9fad9df-3a44-45e1-931b-265807a4ba52",
   "metadata": {},
   "outputs": [
    {
     "name": "stdout",
     "output_type": "stream",
     "text": [
      "\n",
      "Person name : Ravi\n",
      "Person age: 25\n",
      "\n",
      "Person name : Rajeev\n",
      "Person age: 30\n"
     ]
    }
   ],
   "source": [
    "## as a example:-\n",
    "class person:\n",
    "    def __init__(self,name,age):\n",
    "        self.person_name=name\n",
    "        self.person_age=age\n",
    "        \n",
    "    def print_person_details(self):\n",
    "        print(\"\\nPerson name :\",self.person_name)\n",
    "        print(\"Person age:\",self.person_age)\n",
    "        \n",
    "        \n",
    "ravi=person(\"Ravi\",25)\n",
    "ravi.print_person_details()\n",
    "\n",
    "rajeev=person(\"Rajeev\",30)\n",
    "rajeev.print_person_details()"
   ]
  },
  {
   "cell_type": "markdown",
   "id": "d81f057e-b4f5-4f67-b844-0f08a3fb6672",
   "metadata": {},
   "source": [
    "## 2. Differentiate between a parameterless constructor and a parameterized constructor in Python.\n",
    "\n"
   ]
  },
  {
   "cell_type": "markdown",
   "id": "d8f0f2fa-a6ba-42d0-be7b-66f418e8b5e6",
   "metadata": {},
   "source": [
    "### parametrise Constructor :-\n",
    "- The parameterized constructor is nothing but a constructor with multiple parameters. Here also the __init( )__ method is used to call the constructor. But in this type of constructor, the first argument is the self keyword. After passing the self keyword as the first argument, the programmer can pass any number of arguments through the __init( )__ method.\n",
    "\n",
    "### Non parametrise Constructor:-\n",
    "- This constructor does not accept any other parameter as an argument. The default constructor is basically used when the programmer does not use any constructors in the class, it initializes the objects. It is automatically done by the Python language."
   ]
  },
  {
   "cell_type": "code",
   "execution_count": 10,
   "id": "10cf7950-4d4c-4480-8eb2-36390f9ae02d",
   "metadata": {},
   "outputs": [
    {
     "name": "stdout",
     "output_type": "stream",
     "text": [
      "Student Name: Avneesh Kumar\n",
      "Student Age: 19\n"
     ]
    }
   ],
   "source": [
    "## Example of parametrise constructor:-\n",
    "class student:\n",
    "    def __init__(self,name,age):\n",
    "        self.name=name\n",
    "        self.age=age\n",
    "        \n",
    "    def show_studets_details(self):\n",
    "        print(\"Student Name:\",self.name)\n",
    "        print(\"Student Age:\",self.age)\n",
    "        \n",
    "obj=student(\"Avneesh Kumar\",19)\n",
    "obj.show_studets_details()"
   ]
  },
  {
   "cell_type": "code",
   "execution_count": 15,
   "id": "834942d1-75a5-41c9-a780-1f05006f4867",
   "metadata": {},
   "outputs": [
    {
     "name": "stdout",
     "output_type": "stream",
     "text": [
      "This is non parametrise constrctor\n",
      "student name: Arpit singh\n",
      "Student Age: 20\n"
     ]
    }
   ],
   "source": [
    "## Example of Non parametrise constrctor:-\n",
    "\n",
    "class student:\n",
    "    def __init__(self):\n",
    "        print(\"This is non parametrise constrctor\")\n",
    "        \n",
    "    def show_student_details(self,student_name,age):\n",
    "        self.student_name=student_name\n",
    "        self.age=age\n",
    "        print(\"student name:\",self.student_name)\n",
    "        print(\"Student Age:\",self.age)\n",
    "obj=student()\n",
    "obj.show_student_details(\"Arpit singh\",20)\n",
    "        "
   ]
  },
  {
   "cell_type": "markdown",
   "id": "35e3ef52-00a8-4c49-a36a-ed5eebd910f8",
   "metadata": {},
   "source": [
    "## 3. How do you define a constructor in a Python class? Provide an example.\n"
   ]
  },
  {
   "cell_type": "markdown",
   "id": "4ddefd74-8f6c-4ed2-9c2c-72f5e0d820a4",
   "metadata": {},
   "source": [
    "- constracter is nothing but it is a kind of thing by which you can pass a diffrent - diffrent data to the class for diffrent - diffrent object ."
   ]
  },
  {
   "cell_type": "code",
   "execution_count": 1,
   "id": "6403cecc-df7e-4dda-88dc-99b30c94a865",
   "metadata": {},
   "outputs": [
    {
     "name": "stdout",
     "output_type": "stream",
     "text": [
      "\n",
      "Student name : Avneesh Kumar\n",
      "Student id: 101\n",
      "Student roll number: 1\n",
      "\n",
      "Student name : Rahul Kumar\n",
      "Student id: 102\n",
      "Student roll number: 2\n"
     ]
    }
   ],
   "source": [
    "## example - \n",
    "\n",
    "class student :\n",
    "    def __init__(self ,student_name,roll_no,student_id):\n",
    "        self.student_name=student_name\n",
    "        self.student_id=student_id\n",
    "        self.roll_no=roll_no\n",
    "        \n",
    "    def print_student_details(self):\n",
    "        print(\"\\nStudent name :\",self.student_name)\n",
    "        print(\"Student id:\",self.student_id)\n",
    "        print(\"Student roll number:\",self.roll_no)\n",
    "        \n",
    "        \n",
    "avneesh=student(\"Avneesh Kumar\",1,101)\n",
    "avneesh.print_student_details()\n",
    "\n",
    "rahul=student(\"Rahul Kumar\",2,102)\n",
    "rahul.print_student_details()\n"
   ]
  },
  {
   "cell_type": "markdown",
   "id": "b538dd99-c8f8-4fb9-9a8a-af9374d6bcb6",
   "metadata": {},
   "source": [
    "## 4. Explain the `__init__` method in Python and its role in constructors.\n"
   ]
  },
  {
   "cell_type": "markdown",
   "id": "bd334a06-70fc-4786-a4ea-1bfc38951815",
   "metadata": {},
   "source": [
    "- whenever we need to pass the different - diffrent data for a diffrent-different object in this scenario `__init__` function comes into a picture ,`__init__` is nothing but it is kind of a constructor by which you can provide tha different-different data for a different-diffferent object.\n",
    "\n"
   ]
  },
  {
   "cell_type": "code",
   "execution_count": 56,
   "id": "a0b16a6c-4a86-4df8-9d74-b16c567e8050",
   "metadata": {},
   "outputs": [
    {
     "name": "stdout",
     "output_type": "stream",
     "text": [
      "\n",
      "Student Name: Avneesh verma\n",
      "Student Age: 19\n",
      "\n",
      "Student Name: Arpit Singh\n",
      "Student Age: 20\n",
      "\n",
      "Student Name: Nitish Verma\n",
      "Student Age: 21\n"
     ]
    }
   ],
   "source": [
    "class student:\n",
    "    def __init__(self,name,age):\n",
    "        self.name=name\n",
    "        self.age=age\n",
    "        \n",
    "    def show_student_details(self):\n",
    "        print(\"\\nStudent Name:\",self.name)\n",
    "        print(\"Student Age:\",self.age)\n",
    "        \n",
    "        \n",
    "student1=student(\"Avneesh verma\",19)\n",
    "student1.show_student_details()\n",
    "\n",
    "\n",
    "student2=student(\"Arpit Singh\",20)\n",
    "student2.show_student_details()\n",
    "\n",
    "student3=student(\"Nitish Verma\",21)\n",
    "student3.show_student_details()\n"
   ]
  },
  {
   "cell_type": "markdown",
   "id": "e2ab5abe-e208-4620-93de-3a226cbdc694",
   "metadata": {},
   "source": [
    "## 5. In a class named `Person`, create a constructor that initializes the `name` and `age` attributes. Provide an example of creating an object of this class.\n"
   ]
  },
  {
   "cell_type": "code",
   "execution_count": 52,
   "id": "675ed714-9f03-478f-bf1a-4358ee309fb0",
   "metadata": {},
   "outputs": [
    {
     "name": "stdout",
     "output_type": "stream",
     "text": [
      "\n",
      "Person name : Ravi\n",
      "Person age: 25\n",
      "\n",
      "Person name : Rajeev\n",
      "Person age: 30\n"
     ]
    }
   ],
   "source": [
    "class person:\n",
    "    def __init__(self,name,age):\n",
    "        self.person_name=name\n",
    "        self.person_age=age\n",
    "        \n",
    "    def print_person_details(self):\n",
    "        print(\"\\nPerson name :\",self.person_name)\n",
    "        print(\"Person age:\",self.person_age)\n",
    "        \n",
    "        \n",
    "ravi=person(\"Ravi\",25)\n",
    "ravi.print_person_details()\n",
    "\n",
    "rajeev=person(\"Rajeev\",30)\n",
    "rajeev.print_person_details()"
   ]
  },
  {
   "cell_type": "markdown",
   "id": "9f92641d-0b65-40fa-8fbb-415be5257410",
   "metadata": {},
   "source": [
    "\n",
    "\n",
    "## 6. How can you call a constructor explicitly in Python? Give an example.\n"
   ]
  },
  {
   "cell_type": "markdown",
   "id": "cf497e48-6077-4f58-ad79-901312aacbc3",
   "metadata": {},
   "source": [
    "- When ever we need to to pass the different-different data to for a diffrent - diffrent objects in that situation constructer comes into a picture . whenever we create tha class object the constructor is  called  atomaticaly."
   ]
  },
  {
   "cell_type": "code",
   "execution_count": 5,
   "id": "6c4d34b6-2eb5-49b6-a2e2-5652df3837f3",
   "metadata": {},
   "outputs": [
    {
     "name": "stdout",
     "output_type": "stream",
     "text": [
      "\n",
      "Student name: Avneesh verma\n",
      "Student id: 101\n",
      "\n",
      "Student name: Nitish verma\n",
      "Student id: 102\n"
     ]
    }
   ],
   "source": [
    "## Example :-\n",
    "\n",
    "\n",
    "class student:\n",
    "    def __init__(self,student_name,student_id):\n",
    "        self.student_name=student_name\n",
    "        self.student_id=student_id\n",
    "        \n",
    "    def print_student_details(self):\n",
    "        print(\"\\nStudent name:\",self.student_name)\n",
    "        print(\"Student id:\",self.student_id)\n",
    "        \n",
    "        \n",
    "student1=student(\"Avneesh verma\",101)\n",
    "student2=student(\"Nitish verma\",102)\n",
    "\n",
    "student1.print_student_details()\n",
    "student2.print_student_details()"
   ]
  },
  {
   "cell_type": "markdown",
   "id": "640c918a-5984-4950-97f9-d77b232d1c72",
   "metadata": {},
   "source": [
    "## 7. What is the significance of the `self` parameter in Python constructors? Explain with an example.\n"
   ]
  },
  {
   "cell_type": "markdown",
   "id": "e54a4b1d-c9ae-47d3-bd5c-d066366a45a9",
   "metadata": {},
   "source": [
    "- Whenever you are trying to write a function inside the class you have to write very first parameter as a pointer and ingeneral you will be able to find out something called as self ,now self is not a keyword you can give your name ,my name over there ,self is tring to associate the data with the class  which is provided by the respective objects,with a respective variable."
   ]
  },
  {
   "cell_type": "code",
   "execution_count": 51,
   "id": "2d52681a-a1a7-4dda-8e02-ebf86a9a33cd",
   "metadata": {},
   "outputs": [
    {
     "name": "stdout",
     "output_type": "stream",
     "text": [
      "\n",
      "Student name: Avneesh verma\n",
      "Student id : 101\n",
      "Student rollnumber: 1\n",
      "\n",
      "Student name: Nitish verma\n",
      "Student id : 102\n",
      "Student rollnumber: 2\n"
     ]
    }
   ],
   "source": [
    "# Example:-\n",
    "\n",
    "class student:\n",
    "    def __init__(self,student_name,student_id,student_rollnumber):\n",
    "        self.student_name=student_name\n",
    "        self.student_id=student_id\n",
    "        self.student_rollnumber=student_rollnumber\n",
    "        \n",
    "    def print_student_details(self):\n",
    "        print(\"\\nStudent name:\",self.student_name)\n",
    "        print(\"Student id :\",self.student_id)\n",
    "        print(\"Student rollnumber:\",self.student_rollnumber)\n",
    "        \n",
    "student1=student(\"Avneesh verma\",101,1)\n",
    "student1.print_student_details()\n",
    "\n",
    "student2=student(\"Nitish verma\",102,2)\n",
    "student2.print_student_details()\n",
    "        "
   ]
  },
  {
   "cell_type": "markdown",
   "id": "afd8d1b9-0c8a-435b-9d65-e449f26a56f1",
   "metadata": {},
   "source": [
    "## 8. Discuss the concept of default constructors in Python. When are they used?\n"
   ]
  },
  {
   "cell_type": "markdown",
   "id": "09584e1e-597a-4545-b62d-5fac9d129069",
   "metadata": {},
   "source": [
    "- In pythn there are a two types of a contructors one is default constructor and second one is a parametrized constructor, A default constructor that takes no arguments it is used to create an object with default values for its attributes,But parametrized construcor that takes one or more arguments ."
   ]
  },
  {
   "cell_type": "code",
   "execution_count": 2,
   "id": "cbd89a30-9a72-4298-a10b-d0a481890e36",
   "metadata": {},
   "outputs": [
    {
     "name": "stdout",
     "output_type": "stream",
     "text": [
      "Name: Avnesh kumar\n"
     ]
    }
   ],
   "source": [
    "# Example of default constructor :-\n",
    "\n",
    "class name:\n",
    "    def __init__(self):\n",
    "        self.name=\"Avnesh kumar\"\n",
    "        \n",
    "    def print_name(self):\n",
    "        print(\"Name:\",self.name)\n",
    "        \n",
    "        \n",
    "a=name()\n",
    "a.print_name()"
   ]
  },
  {
   "cell_type": "markdown",
   "id": "0bf38419-6094-4ef6-9bd5-970c645437c7",
   "metadata": {},
   "source": [
    "## 9. Create a Python class called `Rectangle` with a constructor that initializes the `width` and `height`attributes. Provide a method to calculate the area of the rectangle.\n"
   ]
  },
  {
   "cell_type": "code",
   "execution_count": 18,
   "id": "8717dbd0-aeb8-431a-8610-8e65548839a0",
   "metadata": {},
   "outputs": [
    {
     "name": "stdout",
     "output_type": "stream",
     "text": [
      "Area of a rectangle: 450\n"
     ]
    }
   ],
   "source": [
    "class reactangle:\n",
    "    def __init__(self,height,width):\n",
    "        self.height=height\n",
    "        self.width=width\n",
    "        \n",
    "    def cal_area_of_rectangle(self):\n",
    "        print( \"Area of a rectangle:\",self.height*self.width)\n",
    "        \n",
    "area=reactangle(15,30)\n",
    "area.cal_area_of_rectangle()\n",
    "\n"
   ]
  },
  {
   "cell_type": "markdown",
   "id": "cd49929a-a139-4a89-b3c1-34ec2627f5f2",
   "metadata": {},
   "source": [
    "## 10. How can you have multiple constructors in a Python class? Explain with an example.\n"
   ]
  },
  {
   "cell_type": "code",
   "execution_count": 9,
   "id": "edccc963-ace7-4aa7-853a-f45a79e15ec0",
   "metadata": {},
   "outputs": [],
   "source": [
    "class student:\n",
    "    def __init__(self,student_name,roll_no):\n",
    "        self.student_name=student_name\n",
    "        self.roll_no=roll_no\n",
    "        \n",
    "    def print_studnt_detai(self):\n",
    "        print(\"Student name:\",self.student_name)\n",
    "        print(\"Student roll_o:\",self.roll_no)\n",
    "        \n",
    "class teacher:\n",
    "    def __init__(self,teachername,Subject):\n",
    "        self.teachername=teachername\n",
    "        self.subject = Subject\n",
    "        \n",
    "    def print_teacher_deails(self):\n",
    "        print(\"Teacher name:\",self.teachername)\n",
    "        print(\"Subject of teacher:\",self.subject)\n",
    "        print(self.prit_studnt_detai)\n",
    "        "
   ]
  },
  {
   "cell_type": "markdown",
   "id": "290c88e9-3848-4f40-bedd-869ebf0f81ce",
   "metadata": {},
   "source": [
    "## 11. What is method overloading, and how is it related to constructors in Python?\n"
   ]
  },
  {
   "cell_type": "markdown",
   "id": "14f5b94f-e934-49e6-bf5a-9ee9e17bf42d",
   "metadata": {},
   "source": [
    "- Two methods in a class have the same name we call method overloading .both the methods having different signature - signature means a different number of parameters.if the contructors writtes two times with differnet signstures we call constructor over loading."
   ]
  },
  {
   "cell_type": "code",
   "execution_count": 2,
   "id": "c3fd804e-68c4-481d-882e-3a882fe2ea67",
   "metadata": {},
   "outputs": [
    {
     "name": "stdout",
     "output_type": "stream",
     "text": [
      "this is method\n",
      "6\n"
     ]
    }
   ],
   "source": [
    "## Exmaple :-\n",
    "\n",
    "class test:\n",
    "    def __init__(self, k):\n",
    "        self.x1=k\n",
    "    def __init__(self,l,k):\n",
    "        self.x1=l\n",
    "        self.x2=k\n",
    "    def f(self):\n",
    "        print(\"this is method\")\n",
    "        print(self.x1+self.x2)\n",
    "ob1=test(1,5)\n",
    "ob1.f()"
   ]
  },
  {
   "cell_type": "markdown",
   "id": "95440625-7fc8-45a1-8d19-cbbca2c1d3d4",
   "metadata": {},
   "source": [
    "## 12. Explain the use of the `super()` function in Python constructors. Provide an example.\n"
   ]
  },
  {
   "cell_type": "markdown",
   "id": "300a956d-436f-42b8-a24f-a103639f628c",
   "metadata": {},
   "source": [
    "- whenevr we try to inherit some sort of property from a another calss in this scenario i'll try to use the super function so that i will be able to inherit the property of that class.with the help of super i am trying to do nothing but reinitilise the previous class variable thats it ."
   ]
  },
  {
   "cell_type": "code",
   "execution_count": 3,
   "id": "503fb29e-9b46-41ac-881b-d112d668056c",
   "metadata": {},
   "outputs": [
    {
     "name": "stdout",
     "output_type": "stream",
     "text": [
      "Krish krish123@gmail.com\n"
     ]
    }
   ],
   "source": [
    "##Example:-\n",
    "class  pwskills:\n",
    "    def __init__(self,mentor):\n",
    "        self.mentor=mentor\n",
    "        \n",
    "    def mentor_name(self):\n",
    "        print(self.mentor)\n",
    "        \n",
    "class data_science(pwskills):\n",
    "    def __init__(self,mentor,mentor_mailid):\n",
    "        super().__init__(mentor)\n",
    "        self.mentor_mailid=mentor_mailid\n",
    "        \n",
    "    def show_info(self):\n",
    "        print(self.mentor,self.mentor_mailid)\n",
    "        \n",
    "object_datascience=data_science(\"Krish\",\"krish123@gmail.com\")\n",
    "object_datascience.show_info()"
   ]
  },
  {
   "cell_type": "markdown",
   "id": "336c8024-57ec-46b9-91ed-334ada219b31",
   "metadata": {},
   "source": [
    "## 13. Create a class called `Book` with a constructor that initializes the `title`, `author`, and `published_year`attributes. Provide a method to display book details.\n"
   ]
  },
  {
   "cell_type": "code",
   "execution_count": 3,
   "id": "cdddd943-28e3-4bfa-be89-19305a38e652",
   "metadata": {},
   "outputs": [
    {
     "name": "stdout",
     "output_type": "stream",
     "text": [
      "Book title: rich dad and poor dad\n",
      "Author: Rouber kiyasaki\n",
      "published year: 1997\n"
     ]
    }
   ],
   "source": [
    "class book:\n",
    "    def __init__(self,title,author,published_year):\n",
    "        self.title=title\n",
    "        self.author=author\n",
    "        self.published_year=published_year\n",
    "        \n",
    "    def display_book_details(self):\n",
    "        print(\"Book title:\",self.title)\n",
    "        print(\"Author:\",self.author)\n",
    "        print(\"published year:\",self.published_year)\n",
    "        \n",
    "a1=book(\"rich dad and poor dad\",\"Rouber kiyasaki\",1997)\n",
    "a1.display_book_details()"
   ]
  },
  {
   "cell_type": "markdown",
   "id": "85a34e26-2c05-4521-a12b-bd10f797cefa",
   "metadata": {},
   "source": [
    "## 14. Discuss the differences between constructors and regular methods in Python classes.\n"
   ]
  },
  {
   "cell_type": "markdown",
   "id": "a27fdad7-c66c-48ac-bf3a-b77e276a5bcd",
   "metadata": {},
   "source": [
    "### Method :-\n",
    "- In the object oriented programing world, a method is a grouping of instructions that execute some perticuler operations and return the result to the caller . It help the program to become more manageble. It allows you to reuse the code without rewritting the code .\n",
    "\n",
    "### Constructor :-\n",
    "- In the object oriented programing world, constructor play an very importent role.Constructor helps to initilasing an object the name of the class and constructor always remains same. constructor has a group of instructions that are performe at the time of object creations .Ingeneral programmer use the constructors to provide initial values to the variables represented in a class. "
   ]
  },
  {
   "cell_type": "markdown",
   "id": "acd7abb5-f1a5-46b9-8505-8e63a6434ffc",
   "metadata": {},
   "source": [
    "## 15. Explain the role of the `self` parameter in instance variable initialization within a constructor.\n"
   ]
  },
  {
   "cell_type": "markdown",
   "id": "3db4035c-d6e1-4067-902e-7a86cf2ded80",
   "metadata": {},
   "source": [
    "- whenver we try to create the class inside the class we defines the function when we define the function ,makesure first parameter as pointer called as a self self is not a complesury to provide you can provide your name my name over here . self is basicaly try to initilze value to the calss ."
   ]
  },
  {
   "cell_type": "markdown",
   "id": "c784003d-6585-47dc-aef2-526f58ff0794",
   "metadata": {},
   "source": [
    "## 16. How do you prevent a class from having multiple instances by using constructors in Python? Provide an example.\n"
   ]
  },
  {
   "cell_type": "code",
   "execution_count": 1,
   "id": "e02c4811-9740-432a-b83a-38e2ef740cb9",
   "metadata": {},
   "outputs": [
    {
     "name": "stdout",
     "output_type": "stream",
     "text": [
      "Name: Avnesh kumar\n"
     ]
    }
   ],
   "source": [
    "class students :\n",
    "    def __init__(self,name):\n",
    "        self.name=name\n",
    "        \n",
    "    def print_student_name(self):\n",
    "        print(\"Name:\",self.name)\n",
    "        \n",
    "a=students(\"Avnesh kumar\")\n",
    "a.print_student_name()"
   ]
  },
  {
   "cell_type": "markdown",
   "id": "e823d1c4-de38-4cc9-8b1d-6b77321e71e0",
   "metadata": {},
   "source": [
    "## 17. Create a Python class called `Student` with a constructor that takes a list of subjects as a parameter an initializes the `subjects` attribute.\n"
   ]
  },
  {
   "cell_type": "code",
   "execution_count": 2,
   "id": "47fb88f3-4e13-4f16-b262-e662aecd106c",
   "metadata": {},
   "outputs": [
    {
     "name": "stdout",
     "output_type": "stream",
     "text": [
      "My subjects is: ('Hindi', 'English')\n"
     ]
    }
   ],
   "source": [
    "class student:\n",
    "    def __init__(self,*subject):\n",
    "        self.subject=subject\n",
    "        \n",
    "    def initilize_subject(self):\n",
    "        print(\"My subjects is:\",self.subject)\n",
    "        \n",
    "        \n",
    "a=student(\"Hindi\",\"English\")\n",
    "a.initilize_subject()"
   ]
  },
  {
   "cell_type": "markdown",
   "id": "00a00802-329c-4418-b188-b0d264d08a73",
   "metadata": {},
   "source": [
    "## 18. What is the purpose of the `__del__` method in Python classes, and how does it relate to constructors?\n"
   ]
  },
  {
   "cell_type": "markdown",
   "id": "971b8cc0-cc8c-48a8-a2a4-ab1d90fc0709",
   "metadata": {},
   "source": [
    "- once open up the file so obisualy we have to close a file or whenever file is open so we have to do something by which file will be close once my work will be done and this is where a concept of distructure(`__del__`):comes into a picture.Distructure means a kind of a intity or kind of a dunder method so which will try to destroy the object automaticaly.\n",
    "- Constructor automaticaly call whenever we try to create the object of the class and dell function is also call automaticaly as a constractor so in this scenario it is related to each other ."
   ]
  },
  {
   "cell_type": "code",
   "execution_count": 52,
   "id": "d85770b8-aab6-4268-afe6-edf8b0f37e59",
   "metadata": {},
   "outputs": [
    {
     "name": "stdout",
     "output_type": "stream",
     "text": [
      "This will open the file: test.txt\n"
     ]
    }
   ],
   "source": [
    "## Example:-\n",
    "class fileopener:\n",
    "    def __init__(self,filename):\n",
    "        self.filename=filename\n",
    "        \n",
    "    def open_file(self):\n",
    "        print(\"This will open the file:\",self.filename)\n",
    "        \n",
    "    def __del__(self):\n",
    "        self.filename\n",
    "        \n",
    "f1=fileopener(\"test.txt\")\n",
    "f1.open_file()"
   ]
  },
  {
   "cell_type": "markdown",
   "id": "088cd353-a639-4859-99c7-25f978825224",
   "metadata": {},
   "source": [
    "## 19. Explain the use of constructor chaining in Python. Provide a practical example.\n"
   ]
  },
  {
   "cell_type": "markdown",
   "id": "50f9b297-6885-4c8e-a124-093dff77ed22",
   "metadata": {},
   "source": [
    "- Constructor chaining is the process of calling one constructor from another constructor,constructor chaining is usefull when you want to invoke multiple constructors,one after another by initilizing only one instance. In python constructor is convenient when we are dealing with inheritance. "
   ]
  },
  {
   "cell_type": "code",
   "execution_count": 11,
   "id": "d34e46f3-080d-4c44-b70d-f75d0085f96d",
   "metadata": {},
   "outputs": [
    {
     "name": "stdout",
     "output_type": "stream",
     "text": [
      "Hi this is a women class constructor\n"
     ]
    },
    {
     "data": {
      "text/plain": [
       "'Avneesh'"
      ]
     },
     "execution_count": 11,
     "metadata": {},
     "output_type": "execute_result"
    }
   ],
   "source": [
    "## Example :-\n",
    "\n",
    "class man:\n",
    "    def __init__(self):\n",
    "        print(\"Hi this is human class constructor\")\n",
    "        \n",
    "    def nameof_man(self,name):\n",
    "        return name\n",
    "\n",
    "        \n",
    "class women(man):\n",
    "    def __init__(self):\n",
    "        print(\"Hi this is a women class constructor\")\n",
    "        \n",
    "    def name_of_women(self,name):\n",
    "        return f'this is a women class constructor,{name}'\n",
    "        \n",
    "    \n",
    "a=women()\n",
    "a.nameof_man(\"Avneesh\")\n"
   ]
  },
  {
   "cell_type": "markdown",
   "id": "01aac681-c7fd-451d-8161-ed4bef887ab7",
   "metadata": {},
   "source": [
    "## 20. Create a Python class called `Car` with a default constructor that initializes the `make` and `model`attributes. Provide a method to display car information."
   ]
  },
  {
   "cell_type": "code",
   "execution_count": 1,
   "id": "ff183061-063a-4016-b24c-5b2795fd9d0a",
   "metadata": {},
   "outputs": [
    {
     "name": "stdout",
     "output_type": "stream",
     "text": [
      "car information\n",
      "car model: 2017\n",
      "make: Hyundai venue\n"
     ]
    }
   ],
   "source": [
    "class car :\n",
    "    def __init__(self,make,model):\n",
    "        self.make=make\n",
    "        self.model=model\n",
    "        \n",
    "    def display_car_information(self):\n",
    "        print(\"car information\")\n",
    "        print(\"car model:\",self.model)\n",
    "        print(\"make:\",self.make)\n",
    "        \n",
    "a=car(\"Hyundai venue\",2017)\n",
    "a.display_car_information()"
   ]
  },
  {
   "cell_type": "markdown",
   "id": "fd53ae2a-8f46-44a1-9204-0d599807248c",
   "metadata": {},
   "source": [
    "## Inheritance:\n"
   ]
  },
  {
   "cell_type": "markdown",
   "id": "11e28b97-70d8-4557-98ac-35502fcf2937",
   "metadata": {},
   "source": [
    "## 1. What is inheritance in Python? Explain its significance in object-oriented programming.\n"
   ]
  },
  {
   "cell_type": "markdown",
   "id": "9277fb0f-0d79-4813-928f-13a38b39fcc8",
   "metadata": {},
   "source": [
    "- Diffinition wise cncept of inheritance is very simple so for example we all are humen being and we all have a parents , we all have a grand parents & we try to inherit some sort of a property from our parents from our grand parents may be the way we use to communicate , may we the behaviour that we try to show case ,may be the kind of a nature so there are so many things that we try to inherit from our ansisters may be our parents may be our grandparents,so we all try to inherit some sort of a properties from a lagacy and that is something called as inheritance .\n",
    "- so again if i'm going to create a class , so lets supose i'm create the class `a` and class `b` and in class `b` if i have to use same exact same thing which i have written in class a without rewriting the code ,if i am able to call may be i have achieve the inheritance , Inheritance is increase the reusability of the code."
   ]
  },
  {
   "cell_type": "code",
   "execution_count": 9,
   "id": "77b815d3-db72-4d70-bce4-3fc30af9f530",
   "metadata": {},
   "outputs": [
    {
     "name": "stdout",
     "output_type": "stream",
     "text": [
      "This test method part of the class b of test1b\n",
      "This test method part of the class a of test1\n"
     ]
    }
   ],
   "source": [
    "# Example :-\n",
    "\n",
    "class a :\n",
    "    def test1(self):\n",
    "        print(\"This test method part of the class a of test1\")\n",
    "            \n",
    "    def test2(self):\n",
    "        print(\"This test method part of the class a of test2\")\n",
    "        \n",
    "class b(a):\n",
    "    def test1b(self):\n",
    "        print(\"This test method part of the class b of test1b\")\n",
    "            \n",
    "        \n",
    "        \n",
    "objeect_of_class_b=b()\n",
    "objeect_of_class_b.test1b()\n",
    "objeect_of_class_b.test1()"
   ]
  },
  {
   "cell_type": "markdown",
   "id": "96e139c9-0748-4ce7-9e0c-a671a770cc43",
   "metadata": {},
   "source": [
    "## 2. Differentiate between single inheritance and multiple inheritance in Python. Provide examples for each.\n"
   ]
  },
  {
   "cell_type": "markdown",
   "id": "19491dd5-8b1d-42f0-a6bf-ac247fe70f6d",
   "metadata": {},
   "source": [
    "- inside the single inheritance we try to inherit only one property from the other class ,but in multiple inheritance we try to inherit multiple properties from the one single class ."
   ]
  },
  {
   "cell_type": "code",
   "execution_count": 8,
   "id": "05c3a0b9-dd16-4527-aa42-a089c623cee8",
   "metadata": {},
   "outputs": [
    {
     "name": "stdout",
     "output_type": "stream",
     "text": [
      "This test method part of the class b of test1b\n",
      "This test method part of the class a of test1\n"
     ]
    }
   ],
   "source": [
    "## example for single inhertance:\n",
    "# Example :-\n",
    "\n",
    "class a :\n",
    "    def test1(self):\n",
    "        print(\"This test method part of the class a of test1\")\n",
    "            \n",
    "    def test2(self):\n",
    "        print(\"This test method part of the class a of test2\")\n",
    "        \n",
    "class b(a):\n",
    "    def test1b(self):\n",
    "        print(\"This test method part of the class b of test1b\")\n",
    "            \n",
    "        \n",
    "        \n",
    "objeect_of_class_b=b()\n",
    "objeect_of_class_b.test1b()\n",
    "objeect_of_class_b.test1()"
   ]
  },
  {
   "cell_type": "code",
   "execution_count": 15,
   "id": "60e4e0a1-6832-4482-9338-355c2728c58a",
   "metadata": {},
   "outputs": [
    {
     "name": "stdout",
     "output_type": "stream",
     "text": [
      "my school time is 9 am IST\n",
      "No of student in my school is 100\n",
      "My school leave time is 3 pm\n",
      "My teacher name is sudhanshu kumar\n"
     ]
    }
   ],
   "source": [
    "## Example for multiple inheritance:-\n",
    "\n",
    "class school :\n",
    "    def timing(self):\n",
    "        print(\"my school time is 9 am IST\")\n",
    "    def leave(self):\n",
    "        print(\"My school leave time is 3 pm\")\n",
    "        \n",
    "class student:\n",
    "    def no_student(self):\n",
    "        print(\"No of student in my school is 100\")\n",
    "    \n",
    "class teacher(school,student):\n",
    "    def name(self):\n",
    "        print(\"My teacher name is sudhanshu kumar\")\n",
    "        \n",
    "object_of_teacher=teacher()\n",
    "object_of_teacher.timing()\n",
    "object_of_teacher.no_student()\n",
    "object_of_teacher.leave()\n",
    "object_of_teacher.name()"
   ]
  },
  {
   "cell_type": "markdown",
   "id": "c87ee02f-11eb-4f00-bdf6-d0f0f980f5b5",
   "metadata": {},
   "source": [
    "## 3. Create a Python class called `Vehicle` with attributes `color` and `speed`. Then, create a child class called `Car` that inherits from `Vehicle` and adds a `brand` attribute. Provide an example of creating a `Car` object.\n"
   ]
  },
  {
   "cell_type": "code",
   "execution_count": 39,
   "id": "5d658a99-fabe-41b4-bc99-6dd36724ccb3",
   "metadata": {},
   "outputs": [
    {
     "name": "stdout",
     "output_type": "stream",
     "text": [
      "Vehical colour : Red   Vehical speed: 202\n",
      "\n",
      "Vehical colour : Red   Vehical speed: 202\n",
      "Vehical brand: suzki\n"
     ]
    }
   ],
   "source": [
    "class vehical:\n",
    "    def __init__(self,color,speed):\n",
    "        self.speed=speed\n",
    "        self.color=color\n",
    "        \n",
    "    def vehical_color_and_speed(self):\n",
    "        \n",
    "        print(\"Vehical colour :\",self.color,\" \",\"Vehical speed:\",self.speed)\n",
    "        \n",
    "class car(vehical):\n",
    "    def __init__(self,color,speed,brand):\n",
    "        self.brand=brand\n",
    "        self.color=color\n",
    "        self.speed=speed\n",
    "        \n",
    "    def show_all_details(self):\n",
    "        \n",
    "        print(\"\\nVehical colour :\",self.color,\" \",\"Vehical speed:\",self.speed)\n",
    "        print(\"Vehical brand:\",self.brand)\n",
    "        \n",
    "object_of_vehical=vehical(\"Red\",202)\n",
    "object_of_vehical.vehical_color_and_speed()\n",
    "        \n",
    "\n",
    "object_of_car=car(\"Red\",202,\"suzki\")\n",
    "object_of_car.show_all_details()"
   ]
  },
  {
   "cell_type": "markdown",
   "id": "449848fc-2bdc-4232-a3f0-73330af88d37",
   "metadata": {},
   "source": [
    "## 4. Explain the concept of method overriding in inheritance. Provide a practical example.\n"
   ]
  },
  {
   "cell_type": "markdown",
   "id": "f80eeddd-01d3-4689-ab52-9305ebc3fbd1",
   "metadata": {},
   "source": [
    "- Overiding is nothing but whenever we try to write a code ,if we inherit the some properties from parent class to inside the child class that is something clalled as overriding. means override the method without rewriting the code ."
   ]
  },
  {
   "cell_type": "code",
   "execution_count": null,
   "id": "8fa14d70-a28a-487b-9890-92d35240cf59",
   "metadata": {},
   "outputs": [
    {
     "name": "stdout",
     "output_type": "stream",
     "text": [
      "This will give me details about the data science student\n",
      "This will give me a details about the big data students:\n"
     ]
    }
   ],
   "source": [
    "# Example:-\n",
    "\n",
    "class pwskils:\n",
    "    def student(self):\n",
    "        pass\n",
    "class data_science(pwskils):\n",
    "    def student(self):\n",
    "        print(\"This will give me details about the data science student\")\n",
    "        \n",
    "class bigdata(pwskils):\n",
    "    def student(self):\n",
    "        print(\"This will give me a details about the big data students:\")\n",
    "        \n",
    "        \n",
    "avneesh=data_science()\n",
    "nitish=bigdata()\n",
    "\n",
    "avneesh.student()\n",
    "nitish.student()\n",
    "    "
   ]
  },
  {
   "cell_type": "markdown",
   "id": "766461b2-7414-4e96-b4ea-b41330802f65",
   "metadata": {},
   "source": [
    "## 5. How can you access the methods and attributes of a parent class from a child class in Python? Give an example.\n"
   ]
  },
  {
   "cell_type": "code",
   "execution_count": 17,
   "id": "c1c0387a-d08c-494a-aaf6-274fec7f93fa",
   "metadata": {},
   "outputs": [
    {
     "name": "stdout",
     "output_type": "stream",
     "text": [
      "Name: Avneesh\n",
      "Age: 25\n",
      "\n",
      "Name: Avneesh\n",
      "Age: 25\n",
      "Email_id: avneeshkumar1362@gmail.com\n"
     ]
    }
   ],
   "source": [
    "class parent:\n",
    "    def __init__(self,name,age):\n",
    "        self.name=name\n",
    "        self.age=age\n",
    "        \n",
    "    def print_details(self):\n",
    "        print(\"Name:\",self.name)\n",
    "        print(\"Age:\",self.age)\n",
    "        \n",
    "class child(parent):\n",
    "    def __init__(self,name,age,email_id):\n",
    "        super().__init__(name,age)\n",
    "        self.email_id=email_id\n",
    "        \n",
    "        \n",
    "    def see_details(self):\n",
    "        print(\"\\nName:\",self.name)\n",
    "        print(\"Age:\",self.age)\n",
    "        print(\"Email_id:\",self.email_id)\n",
    "        \n",
    "        \n",
    "a=child(\"Avneesh\",25,\"avneeshkumar1362@gmail.com\")\n",
    "a.print_details()\n",
    "a.see_details()\n"
   ]
  },
  {
   "cell_type": "markdown",
   "id": "313cc8c0-308e-43e8-92ae-eec833e04bfa",
   "metadata": {},
   "source": [
    "## 6. Discuss the use of the `super()` function in Python inheritance. When and why is it used? Provide an example.\n"
   ]
  },
  {
   "cell_type": "markdown",
   "id": "780f4035-3a5e-4952-8bc7-b5cd0a8d75cc",
   "metadata": {},
   "source": [
    "- whenevr we try to inherit some sort of property from a another calss in this scenario i'll try to use the super function so that i will be able to inherit the property of that class.with the help of super i am trying to do nothing but reinitilise the previous class variable thats it ."
   ]
  },
  {
   "cell_type": "code",
   "execution_count": 47,
   "id": "6ae65727-1269-48d0-86b8-1e4a69ef3d34",
   "metadata": {},
   "outputs": [
    {
     "name": "stdout",
     "output_type": "stream",
     "text": [
      "Krish krish123@gmail.com\n"
     ]
    }
   ],
   "source": [
    "##Example:-\n",
    "class  pwskills:\n",
    "    def __init__(self,mentor):\n",
    "        self.mentor=mentor\n",
    "        \n",
    "    def mentor_name(self):\n",
    "        print(self.mentor)\n",
    "        \n",
    "class data_science(pwskills):\n",
    "    def __init__(self,mentor,mentor_mailid):\n",
    "        super().__init__(mentor)\n",
    "        self.mentor_mailid=mentor_mailid\n",
    "        \n",
    "    def show_info(self):\n",
    "        print(self.mentor,self.mentor_mailid)\n",
    "        \n",
    "object_datascience=data_science(\"Krish\",\"krish123@gmail.com\")\n",
    "object_datascience.show_info()"
   ]
  },
  {
   "cell_type": "markdown",
   "id": "e2432be3-7d3e-47b7-8217-16f7b90506d2",
   "metadata": {},
   "source": [
    "## 7. Create a Python class called `Animal` with a method `speak()`. Then, create child classes `Dog` and `Cat` that inherit from `Animal` and override the `speak()` method. Provide an example of using these classes.\n"
   ]
  },
  {
   "cell_type": "code",
   "execution_count": 17,
   "id": "74de5d85-335a-4f68-96ed-b42e25c8db64",
   "metadata": {},
   "outputs": [
    {
     "name": "stdout",
     "output_type": "stream",
     "text": [
      "This is a generic animal\n",
      "This is a dog named tomy. It is 12 years old.\n",
      "This is a cat named mary. It is 10 years old.\n"
     ]
    }
   ],
   "source": [
    "class animal:\n",
    "    def __init__(self,name,age):\n",
    "        self.name=name\n",
    "        self.age=age\n",
    "        \n",
    "    def spesk(self):\n",
    "        print(\"This is a generic animal\")\n",
    "        \n",
    "class dog(animal):\n",
    "    def speak(self):\n",
    "        print(f\"This is a dog named {self.name}. It is {self.age} years old.\")\n",
    "    \n",
    "class cat(animal):\n",
    "    def speak(self):\n",
    "        print(f\"This is a cat named {self.name}. It is {self.age} years old.\")\n",
    "    \n",
    "if __name__==\"__main__\":\n",
    "    obj_ani=animal(\"Generic Animal\",0)\n",
    "    obj_ani.spesk()\n",
    "    \n",
    "    obj_dog=dog(\"tomy\",12)\n",
    "    obj_dog.speak()\n",
    "\n",
    "    obj_cat=cat(\"mary\",10)\n",
    "    obj_cat.speak()"
   ]
  },
  {
   "cell_type": "markdown",
   "id": "342ef183-7b2e-4878-88a8-36e56e4267c0",
   "metadata": {},
   "source": [
    "## 8. Explain the role of the `isinstance()` function in Python and how it relates to inheritance.\n"
   ]
  },
  {
   "cell_type": "markdown",
   "id": "d608627d-320c-4982-af00-550d25198bd6",
   "metadata": {},
   "source": [
    "- Is instance is nothing but it is mostly use inside the condititional statements. lets supose i have a two classes one is pwskills and another is student then i am trying to creat object of these class e1 and another e2 but lets supose im not understood which object belongs  pwskills class  or student class in that case using isinstance we can find out which object belongs to class pwskills or class student .\n",
    "\n",
    "- The isinstance () function checks whether an object is an instance of the class mentioned. One can test if an object or variable is an instance of the type or class.Isinstance and issubinstance always provide value in a bool formet .\n",
    "\n",
    "-  If inheritance is present in the program, then the function can be used to check if a specified class is the parent class of an object."
   ]
  },
  {
   "cell_type": "code",
   "execution_count": 17,
   "id": "d3766698-001f-4bd1-802c-02a9b591d9b0",
   "metadata": {},
   "outputs": [
    {
     "name": "stdout",
     "output_type": "stream",
     "text": [
      "True\n",
      "False\n"
     ]
    }
   ],
   "source": [
    "## Example :-\n",
    "\n",
    "## create the class \n",
    "class pwskills:\n",
    "    pass \n",
    "\n",
    "class student:\n",
    "    pass \n",
    "\n",
    "## creat the objecct-\n",
    "e1=pwskills()\n",
    "e2=student()\n",
    "\n",
    "print(isinstance(e1,pwskills))\n",
    "print(isinstance(e2,pwskills))"
   ]
  },
  {
   "cell_type": "markdown",
   "id": "856a60c3-96e2-4d94-90c4-8af1e0cf47e4",
   "metadata": {},
   "source": [
    "## 9. What is the purpose of the `issubclass()` function in Python? Provide an example.\n"
   ]
  },
  {
   "cell_type": "markdown",
   "id": "cc8f54f8-d18e-43da-b435-f67cdd889a09",
   "metadata": {},
   "source": [
    "- Purpose of the issubclass in python is nothing but with the help of this function we can try to check subclass of the superclass or parent class who to use this function lets try to understand.Lets supose i have a two classes one is keypaid phone and another is a smart phone inside the smart phone we can inherit the keypaid class. lets supose i am not understand about smart phone is a subclass of keypaid class or kepaid phone class is a subclass of smart phone.lets try to understand these things with the help of exampl."
   ]
  },
  {
   "cell_type": "code",
   "execution_count": 16,
   "id": "0b61f4d3-4517-47ff-b35e-eddde51df876",
   "metadata": {},
   "outputs": [
    {
     "name": "stdout",
     "output_type": "stream",
     "text": [
      "Keypaid phone\n",
      "Brand:samsung\n",
      "Model:A1\n",
      "Price:12000\n",
      "\n",
      "Smart phone\n",
      "Brand:IQOO\n",
      "Model:Z6Lite\n",
      "Price:17000\n",
      "Camer:50MP\n",
      "Ram:6GB\n",
      "-------------------------------------\n",
      "True\n",
      "False\n"
     ]
    }
   ],
   "source": [
    "## Example:-\n",
    "\n",
    "class keypaid_phone:\n",
    "    print(\"Keypaid phone\")\n",
    "    def __init__(self,brand,model,price):\n",
    "        self.brand=brand\n",
    "        self.model=model\n",
    "        self.price=price\n",
    "        \n",
    "    def show_info(self):\n",
    "        print(f\"Brand:{self.brand}\")\n",
    "        print(f'Model:{self.model}')\n",
    "        print(f\"Price:{self.price}\")\n",
    "        \n",
    "class smart_phone(keypaid_phone):\n",
    "   \n",
    "    def __init__(self,brand,model,price,camera,ram):\n",
    "        super().__init__(brand,model,price)\n",
    "        self.camera=camera\n",
    "        self.ram=ram\n",
    "    def show_info(self):\n",
    "        print(\"\\nSmart phone\")\n",
    "        print(f\"Brand:{self.brand}\")\n",
    "        print(f'Model:{self.model}')\n",
    "        print(f\"Price:{self.price}\")\n",
    "        print(f\"Camer:{self.camera}\")\n",
    "        print(f\"Ram:{self.ram}\")\n",
    "        \n",
    "obje1=keypaid_phone(\"samsung\",\"A1\",12000)\n",
    "obje1.show_info()\n",
    "obje2=smart_phone(\"IQOO\",\"Z6Lite\",\"17000\",\"50MP\",\"6GB\")\n",
    "obje2.show_info()\n",
    "\n",
    "## use the issubclass:\n",
    "print(\"-------------------------------------\")\n",
    "print(issubclass(smart_phone,keypaid_phone))  ### here we try to check smart phone class is a subclass of keypaid ,\n",
    "\n",
    "\n",
    "print(issubclass(keypaid_phone,smart_phone))   ### here we try to check keypaid class is a subclass of smart phone ,"
   ]
  },
  {
   "cell_type": "markdown",
   "id": "2b0a1fae-c153-4608-acd0-c02254053e45",
   "metadata": {},
   "source": [
    "## 10. Discuss the concept of constructor inheritance in Python. How are constructors inherited in child classes?\n"
   ]
  },
  {
   "cell_type": "markdown",
   "id": "1708e6cd-728c-4745-920c-9c086adeed05",
   "metadata": {},
   "source": [
    "- In python,constractor level inheritance is also possible ,lets supose i have a super class name father here i will decleare the variable called as property and then i have created a son class where i can try to inherit the constructor from the fathers class ,lets try to understand over here ."
   ]
  },
  {
   "cell_type": "code",
   "execution_count": 25,
   "id": "739fc0d7-f1e0-48a7-bf2c-9e51d88b0bc2",
   "metadata": {},
   "outputs": [
    {
     "name": "stdout",
     "output_type": "stream",
     "text": [
      "I have a 500000  property:\n"
     ]
    }
   ],
   "source": [
    "#Example :-\n",
    "\n",
    "class father:\n",
    "    def __init__(self):\n",
    "        self.property=500000\n",
    "        \n",
    "class son(father):\n",
    "    def print_property(self):\n",
    "        print(\"I have a\",self.property,\" property:\")\n",
    "    \n",
    "    \n",
    "a=son()\n",
    "a.print_property()"
   ]
  },
  {
   "cell_type": "markdown",
   "id": "23f0e64a-b4f9-4109-98d6-863a9dfdee24",
   "metadata": {},
   "source": [
    "## 11. Create a Python class called `Shape` with a method `area()` that calculates the area of a shape. Then, create child classes `Circle` and `Rectangle` that inherit from `Shape` and implement the `area()` method accordingly. Provide an example.\n"
   ]
  },
  {
   "cell_type": "code",
   "execution_count": 3,
   "id": "86e14020-0a85-4e4a-8df7-e3a19e14ccf2",
   "metadata": {},
   "outputs": [
    {
     "name": "stdout",
     "output_type": "stream",
     "text": [
      "Area of acircle: 78.5\n",
      "Area of a rectnagle: 100\n"
     ]
    }
   ],
   "source": [
    "class shape:\n",
    "    def __init__(self,length=0,width=0,height=0):\n",
    "        self.length=length\n",
    "        self.width=width\n",
    "        self.height=height\n",
    "        \n",
    "    def area(self):\n",
    "        print(\"This calculate the area of a shape\")\n",
    "        \n",
    "class circle(shape):\n",
    "    def cal_area(self):\n",
    "        area=(3.14*self.width*self.width)\n",
    "        print(\"Area of acircle:\",area)\n",
    "        \n",
    "class rectangle(shape):\n",
    "    def cal_area(self):\n",
    "        area=self.width*self.length\n",
    "        print(\"Area of a rectnagle:\",area)\n",
    "a=circle(width=5)\n",
    "a.cal_area()\n",
    "\n",
    "b=rectangle(length=10,width=10)\n",
    "b.cal_area()"
   ]
  },
  {
   "cell_type": "markdown",
   "id": "1e556456-83f9-4ad1-ad33-3b5e510eb369",
   "metadata": {},
   "source": [
    "## 12. Explain the use of abstract base classes (ABCs) in Python and how they relate to inheritance. Provide an example using the `abc` module.\n"
   ]
  },
  {
   "cell_type": "markdown",
   "id": "0196372e-4649-487f-8036-996f097f5631",
   "metadata": {},
   "source": [
    "- Abstact class is a class that contains one or more abstract method is called abstract method .\n",
    "- `Note`: Object of an abstract class can not be created .\n",
    "- python provides abc module to work with abstraction .\n",
    "- we use `@abstractmethod` decorate to define abstract method .\n",
    "\n",
    "\n",
    "-  Inheritance relates to abstraction by the \"derived class is an abstraction of all its base classes\". Explanation: A \"base class is the class\" from which another class originated in a \"object-oriented\" programming language."
   ]
  },
  {
   "cell_type": "code",
   "execution_count": 23,
   "id": "7505cc76-a5c0-47e9-ab5f-1e4de2b81a19",
   "metadata": {},
   "outputs": [
    {
     "name": "stdout",
     "output_type": "stream",
     "text": [
      "\n",
      "Every car have four wheel\n",
      "Speed is 100km/h\n",
      "\n",
      "Every car have four wheel\n",
      "Speed is 70km/h\n"
     ]
    }
   ],
   "source": [
    "## Example:-\n",
    "\n",
    "from abc import ABC ,abstractmethod\n",
    "\n",
    "class car :\n",
    "    def show(self):\n",
    "        print (\"\\nEvery car have four wheel\")\n",
    "    \n",
    "    @abstractmethod    \n",
    "    def speed(self):\n",
    "        pass \n",
    "    \n",
    "class maruti(car):\n",
    "    def speed(self):\n",
    "        print(\"Speed is 100km/h\")\n",
    "        \n",
    "class suzki(car):\n",
    "    def speed(self):\n",
    "        print(\"Speed is 70km/h\")\n",
    "        \n",
    "obje1=maruti()\n",
    "obje1.show()\n",
    "obje1.speed()\n",
    "\n",
    "obje2=suzki()\n",
    "obje2.show()\n",
    "obje2.speed()\n",
    "\n"
   ]
  },
  {
   "cell_type": "markdown",
   "id": "aba68041-c4fd-47eb-9013-8db042301723",
   "metadata": {},
   "source": [
    "## 13. How can you prevent a child class from modifying certain attributes or methods inherited from a parent class in Python?\n"
   ]
  },
  {
   "cell_type": "markdown",
   "id": "fe93a549-04d5-4209-8cd0-c9e6dc246bb5",
   "metadata": {},
   "source": [
    "- with the help of incapsulation we can privent the class from modifying certain attributes from a parent class .lets try to understand how to do it ."
   ]
  },
  {
   "cell_type": "code",
   "execution_count": 18,
   "id": "d66cd6ba-3ade-4906-bd48-273d7510bfd9",
   "metadata": {},
   "outputs": [
    {
     "name": "stdout",
     "output_type": "stream",
     "text": [
      "Name: Avneesh\n",
      "Age: 20\n",
      "Name and age inhirit from the parent class\n"
     ]
    }
   ],
   "source": [
    "## Example:-\n",
    "class parent:\n",
    "    def __init__(self,name,age):\n",
    "        self.__name=name\n",
    "        self.__age=age\n",
    "        \n",
    "    def sow_detailss(self):\n",
    "        print(\"Name:\",self.__name)\n",
    "        print(\"Age:\",self.__age)   \n",
    "        \n",
    "class child(parent):\n",
    "    def child_details(self):\n",
    "        print(\"Name and age inhirit from the parent class\")\n",
    "        \n",
    "a=child(\"Avneesh\",20)\n",
    "a.sow_detailss()\n",
    "a.child_details()\n",
    "        "
   ]
  },
  {
   "cell_type": "markdown",
   "id": "addff1bc-2898-44a3-adbe-2a7428285835",
   "metadata": {},
   "source": [
    "## 14. Create a Python class called `Employee` with attributes `name` and `salary`. Then, create a child class `Manager` that inherits from `Employee` and adds an attribute `department`. Provide an example.\n"
   ]
  },
  {
   "cell_type": "code",
   "execution_count": 5,
   "id": "c38b1595-8bc7-44f2-a6d6-e5ba93ee23b3",
   "metadata": {},
   "outputs": [
    {
     "name": "stdout",
     "output_type": "stream",
     "text": [
      "Name of employee: Avneesh verma \n",
      "Salary of the employee: 40000\n",
      "departement of the employe: Manager\n"
     ]
    }
   ],
   "source": [
    "class employee:\n",
    "    def __init__(self,name,salary):\n",
    "        self.name=name\n",
    "        self.salary=salary\n",
    "    \n",
    "class manager(employee):\n",
    "    def __init__(self,name,salary,departement):\n",
    "        self.name=name\n",
    "        self.salary=salary\n",
    "        self.departement=departementx\n",
    "        \n",
    "    def print_employee_details(self):\n",
    "        print(\"Name of employee:\",self.name)\n",
    "        print(\"Salary of the employee:\",self.salary)\n",
    "        print(\"departement of the employe:\",self.departement)\n",
    "        \n",
    "obj=manager(\"Avneesh verma \",40000,\"Manager\")\n",
    "obj.print_employee_details()"
   ]
  },
  {
   "cell_type": "markdown",
   "id": "d28d603f-1ea3-473b-b0fe-16a21ffbe24c",
   "metadata": {},
   "source": [
    "## 15. Discuss the concept of method overloading in Python inheritance. How does it differ from method overriding?\n"
   ]
  },
  {
   "cell_type": "markdown",
   "id": "d5699616-7562-4466-ae64-ff02ea28bc8d",
   "metadata": {},
   "source": [
    "- Meaning of overloading i am trying to give my diffinition so i am not writing a overwriting i'm trying to given my own diffnition it self ."
   ]
  },
  {
   "cell_type": "code",
   "execution_count": 6,
   "id": "f2b57639-f69a-4eba-b31f-78f4f0ac988d",
   "metadata": {},
   "outputs": [
    {
     "name": "stdout",
     "output_type": "stream",
     "text": [
      "details of big data class\n",
      "Number of class : 4\n",
      "Number of student: 10\n",
      "\n",
      "Details of data science class\n",
      "Number of student: 20\n",
      "Number of class: 5\n"
     ]
    }
   ],
   "source": [
    " ## example:\n",
    "    \n",
    "class bigdata:\n",
    "    def __init__(self,number_of_class,number_of_studet):\n",
    "        self.number_of_class=number_of_class\n",
    "        self.number_of_studet=number_of_studet\n",
    "        \n",
    "    def details_of_bigdata_class(self):\n",
    "        print(\"details of big data class\")\n",
    "        print(\"Number of class :\",self.number_of_class)\n",
    "        print(\"Number of student:\",self.number_of_studet)\n",
    "        \n",
    "class data_science:\n",
    "    def __init__(self,number_ofclass,number_ofstudent):\n",
    "        self.number_ofclass=number_ofclass\n",
    "        self.number_ofstudentq=number_ofstudent\n",
    "        \n",
    "    def details_of_data_science_class(self):\n",
    "        print(\"\\nDetails of data science class\")\n",
    "        print(\"Number of student:\",self.number_ofstudentq)\n",
    "        print(\"Number of class:\",self.number_ofclass)\n",
    "        \n",
    "        \n",
    "bigdata=bigdata(4,10)\n",
    "bigdata.details_of_bigdata_class()\n",
    "\n",
    "data_science=data_science(5,20)\n",
    "data_science.details_of_data_science_class()"
   ]
  },
  {
   "cell_type": "markdown",
   "id": "77fae48c-5d02-43e7-8430-049f8888b68c",
   "metadata": {},
   "source": [
    "## 16. Explain the purpose of the `__init__()` method in Python inheritance and how it is utilized in child classes.\n"
   ]
  },
  {
   "cell_type": "markdown",
   "id": "39eab21e-5398-467e-ade0-b4bafc42ddd6",
   "metadata": {},
   "source": [
    "- Inside the python coding `__init__`: is nothing but its a constructor it is nothing but a kind of a method by which you will be able to provide a data to your classes that is a definition .\n",
    "\n",
    "- constructor is nothing but if you have provide a data to the class for a different - different object this is where a concept of constructor comes into a picture . Inside the python inheritance it is utilise with the super function to inherit some sort of the data or properties from the parent class."
   ]
  },
  {
   "cell_type": "code",
   "execution_count": 71,
   "id": "ebd6b126-5924-4036-b087-1be0630e0c5b",
   "metadata": {},
   "outputs": [
    {
     "name": "stdout",
     "output_type": "stream",
     "text": [
      "Avneesh\n",
      "Print the eat method from humen\n"
     ]
    }
   ],
   "source": [
    "class human:\n",
    "    def __init__(self):\n",
    "        pass\n",
    "    def eat(self):\n",
    "        print(\"Print the eat method from humen\")\n",
    "        \n",
    "class male(human):\n",
    "    def __init__(self,name):\n",
    "        self.name=name\n",
    "        \n",
    "    def eat(self):\n",
    "        print(self.name)\n",
    "        super().eat()\n",
    "        \n",
    "        \n",
    "a=male(\"Avneesh\")\n",
    "a.eat()"
   ]
  },
  {
   "cell_type": "markdown",
   "id": "6bc84bb6-53f9-4657-8265-24fa7af85eca",
   "metadata": {},
   "source": [
    "## 17. Create a Python class called `Bird` with a method `fly()`. Then, create child classes `Eagle` and `Sparrow` that inherit from `Bird` and implement the `fly()` method differently. Provide an example of using these classes.\n"
   ]
  },
  {
   "cell_type": "code",
   "execution_count": 82,
   "id": "de08ad89-1aa1-4f5c-9476-644a0a4a1aeb",
   "metadata": {},
   "outputs": [
    {
     "name": "stdout",
     "output_type": "stream",
     "text": [
      "Bird is fly\n",
      "Eagle is fly\n",
      "Sparrow is fly\n"
     ]
    }
   ],
   "source": [
    "class bird:\n",
    "    def __init__(self):\n",
    "        pass\n",
    "    def flybird(self):\n",
    "        print(\"Bird is fly\")\n",
    "        \n",
    "class eagle(bird):\n",
    "    def __init__(self):\n",
    "        pass\n",
    "    def flyeagle(self):\n",
    "        print(\"Eagle is fly\")\n",
    "        \n",
    "class sparrow(eagle,bird):\n",
    "    def __init__(self):\n",
    "        pass\n",
    "    def sparrowfly(self):\n",
    "        print(\"Sparrow is fly\")\n",
    "        \n",
    "a=sparrow()\n",
    "a.flybird()\n",
    "a.flyeagle()\n",
    "a.sparrowfly()"
   ]
  },
  {
   "cell_type": "markdown",
   "id": "4c2b1066-bad5-401a-ba82-e6ba6f1caad4",
   "metadata": {},
   "source": [
    "## 18. What is the \"diamond problem\" in multiple inheritance, and how does Python address it?\n"
   ]
  },
  {
   "cell_type": "markdown",
   "id": "72bb0ff1-10b2-4e01-a5df-fdcf56fe82ed",
   "metadata": {},
   "source": [
    "- Diamond probles is nothing but it is creating when we create the mutiple inheritance it is only cereating confussion that is something called as diamond problem lets supose i have created class A ,B,C and D, B and c inherited form the class A and class D is inherited from the both classes B and C so basicaly it is nothing it crating confussion which method execute by the whic object right so that many programing language is not supporting the multiple inheritance. "
   ]
  },
  {
   "cell_type": "code",
   "execution_count": 30,
   "id": "7b0136ab-25e8-458b-9838-5807e6821934",
   "metadata": {},
   "outputs": [
    {
     "name": "stdout",
     "output_type": "stream",
     "text": [
      "This is a method from class 'A'\n",
      "This is a method form class 'B'\n",
      "This is a method from class 'C'\n",
      "This is a method from class 'D'\n"
     ]
    }
   ],
   "source": [
    "#Example :- \n",
    "\n",
    "\n",
    "class A:\n",
    "    def method(self):\n",
    "        print(\"This is a method from class 'A'\")\n",
    "        \n",
    "        \n",
    "class B(A):\n",
    "    def method(self):\n",
    "        print(\"This is a method form class 'B'\")\n",
    "        \n",
    "    \n",
    "class C(A):\n",
    "    def method(self):\n",
    "        print(\"This is a method from class 'C'\")\n",
    "        \n",
    "class D(B,C):\n",
    "    def method(self):\n",
    "        print(\"This is a method from class 'D'\")\n",
    "        \n",
    "a=A()\n",
    "b=B()\n",
    "c=C()\n",
    "d=D()\n",
    "a.method()\n",
    "b.method()\n",
    "c.method()\n",
    "d.method()"
   ]
  },
  {
   "cell_type": "markdown",
   "id": "1002a831-9347-4508-8f56-bab124788ece",
   "metadata": {},
   "source": [
    "## 19. Discuss the concept of \"is-a\" and \"has-a\" relationships in inheritance, and provide examples of each.\n"
   ]
  },
  {
   "cell_type": "markdown",
   "id": "628a5304-11a1-4da4-94fc-0486273d1efe",
   "metadata": {},
   "source": [
    "### has -a(object relation ship):-\n",
    "- To acess the data member of class in a same program  or another program if we create an object so that relationship is called has-a realationship.\n",
    "\n",
    "### is-a(inheritance relationship):-\n",
    "- to acess the data member of a class in another class by inheriting the parent calss so that is something called is-a relationship."
   ]
  },
  {
   "cell_type": "code",
   "execution_count": 34,
   "id": "d16b26f6-0df9-4fe8-ac2f-e27bb591e9b8",
   "metadata": {},
   "outputs": [
    {
     "name": "stdout",
     "output_type": "stream",
     "text": [
      "Student name: Vikas verma\n",
      "Cource: Btech\n"
     ]
    }
   ],
   "source": [
    "### Example of a has-a relation ship:-\n",
    "\n",
    "class student:\n",
    "    def student_name(self,name):\n",
    "        self.name=name\n",
    "        print(\"Student name:\",self.name)\n",
    "    def student_cource(self,cource):\n",
    "        self.cource=cource\n",
    "        print(\"Cource:\",self.cource)\n",
    "        \n",
    "obje1=student()\n",
    "obje1.student_name(\"Vikas verma\")\n",
    "obje1.student_cource(\"Btech\")"
   ]
  },
  {
   "cell_type": "code",
   "execution_count": 36,
   "id": "83ee7b90-7b19-4fc1-96a3-6be6f4f21740",
   "metadata": {},
   "outputs": [
    {
     "name": "stdout",
     "output_type": "stream",
     "text": [
      "Student name: Avneesh kumar\n",
      "Cource: Data science\n"
     ]
    }
   ],
   "source": [
    "### Example of is-a relationship:-\n",
    "\n",
    "class collage(student):\n",
    "    pass \n",
    "\n",
    "obje2=collage()\n",
    "obje2.student_name(\"Avneesh kumar\")\n",
    "obje2.student_cource(\"Data science\")"
   ]
  },
  {
   "cell_type": "markdown",
   "id": "8c80cd5a-9066-4e37-8810-993481b03c4c",
   "metadata": {},
   "source": [
    "## 20. Create a Python class hierarchy for a university system. Start with a base class `Person` and create child classes `Student` and `Professor`, each with their own attributes and methods. Provide an example of using these classes in a university context."
   ]
  },
  {
   "cell_type": "code",
   "execution_count": 30,
   "id": "081f299b-2eb8-45de-b846-00bb31d0b33d",
   "metadata": {},
   "outputs": [
    {
     "name": "stdout",
     "output_type": "stream",
     "text": [
      "this is base class\n",
      "\n",
      "Student Name: Aneesh kumar\n",
      "student address: Village jhara post pareli\n",
      "\n",
      "Name: Prempal verma\n",
      "Address: Gola gokarannath lakhimpur kheri\n"
     ]
    }
   ],
   "source": [
    "class person :\n",
    "    def __init__(self):\n",
    "        print(\"this is base class\")\n",
    "        \n",
    "class student:\n",
    "    def student_detalis(self,name,address):\n",
    "        self.name=name\n",
    "        self.address=address\n",
    "        print(\"\\nStudent Name:\",self.name)\n",
    "        print(\"student address:\",self.address)\n",
    "        \n",
    "class profesor:\n",
    "    def __init__(self,prfesor_name,address):\n",
    "        self.prfesor_name=prfesor_name\n",
    "        self.address=address\n",
    "        \n",
    "    def show_profesor_details(self):\n",
    "        print(\"\\nName:\",self.prfesor_name)\n",
    "        print(\"Address:\",self.address)\n",
    "        \n",
    "        \n",
    "university=person()\n",
    "        \n",
    "university=student()\n",
    "university.student_detalis(\"Aneesh kumar\",\"Village jhara post pareli\")\n",
    "\n",
    "university=profesor(\"Prempal verma\",\"Gola gokarannath lakhimpur kheri\")\n",
    "university.show_profesor_details()\n"
   ]
  },
  {
   "cell_type": "markdown",
   "id": "7ad85061-b210-4fb8-be4f-e7892f7fbbb2",
   "metadata": {},
   "source": [
    "## Encapsulation:\n"
   ]
  },
  {
   "cell_type": "markdown",
   "id": "3a5d98c0-544e-4387-998b-a51ea08a42e7",
   "metadata": {},
   "source": [
    "### 1. Explain the concept of encapsulation in Python. What is its role in object-oriented programming?\n"
   ]
  },
  {
   "cell_type": "markdown",
   "id": "644be43d-9bc2-4bb8-9bcc-7fd5c7b49723",
   "metadata": {},
   "source": [
    "- Encapluion is nothing but hiding a details for example,Whenever we get sek we go to the doctor and doctor try to give me medicine may be capsule so have you had capsule ,obisualy we all  have had capsule right ,but i dont know what is the composition available in perticular capsule right ,but i know that this perticular tablet or may be capsule for the fiver or may be pain doctor has given me this capsule and after that i know the outcomes that yes i will be ok after taking this capsule so i dont know the actual implemention of capsule but i know the the simple input and output .Lets how you can relate this with the concept of incapsulation.when we try to hide the internal mechinasim but we know what is going to be in and what is going to be out that concept is called as incapsulation .\n",
    "- lets try to understand how i will be able to achieve the incapsulation inside oops programming concepts so lets supose i am going to create the some sort of example over here ."
   ]
  },
  {
   "cell_type": "code",
   "execution_count": 109,
   "id": "5c93af26-51eb-45cc-946d-10c66714e2cb",
   "metadata": {},
   "outputs": [
    {
     "name": "stdout",
     "output_type": "stream",
     "text": [
      "Avneesh Kumar\n",
      "This is just a test\n"
     ]
    }
   ],
   "source": [
    "class test:\n",
    "    def __init__(self):\n",
    "        self.__name=\"Avneesh Kumar\"\n",
    "       \n",
    "        \n",
    "    def acess_variable(self):\n",
    "        print( self.__name)\n",
    "    \n",
    "    def __test_meth(self):\n",
    "        print( \"This is just a test\")\n",
    "    \n",
    "obje=test()\n",
    "obje.acess_variable()\n",
    "obje._test__test_meth()\n"
   ]
  },
  {
   "cell_type": "markdown",
   "id": "3ade71db-3dd7-4cd8-ba77-c46b62d0b661",
   "metadata": {},
   "source": [
    "## 2. Describe the key principles of encapsulation, including access control and data hiding.\n"
   ]
  },
  {
   "cell_type": "markdown",
   "id": "ae7e0f9c-da3e-4511-9f1c-2e1872a829a3",
   "metadata": {},
   "source": [
    "- Encapsulation is nothing but hiding a details so for example whenever we get sek right so we go to a doctor so doctor try to give me a medicine may be a tablet or may be as a capsule ,but you dont know what kind of a composition is availabe inside the capsules ,doctor is going to be recomend you a capsule or may be a tablet .i dont know what is the composition is avalilabe iside the capsule . but i do know that for this kind of a tablet doctor give me for a fiver or may be a illness and after that i 'll we ok .so i dont know the actual implementation i know simply input and output .How you can try to relate incapsulation with this concept.when we try to hide the internal details but we know what is going to be in and and what is going to be out that concept is called as incapsulation .\n",
    "\n",
    "- inside the python there are a three type of a methods or three types of variable you will be able to define .Public ,protected,private,so whenever we try to create the private varialbe it is make sure variable name should we starts from the double underscore . and for the protected variable it is make sure that whenever you create the protected variable your variable name starts from a single underscore(`_name)` And for the public varibl no need of underscore.\n"
   ]
  },
  {
   "cell_type": "code",
   "execution_count": 1,
   "id": "1e063c8e-895c-4f84-8be7-3e8b42fca671",
   "metadata": {},
   "outputs": [
    {
     "name": "stdout",
     "output_type": "stream",
     "text": [
      "Student name: Avneesh Kumar\n",
      "srudent roll number: 10\n"
     ]
    }
   ],
   "source": [
    "### Example :-\n",
    "\n",
    "class student:\n",
    "    def __init__(self,student_name,roll_no):\n",
    "        self.__student_name=student_name\n",
    "        self.__roll_no=roll_no\n",
    "        \n",
    "    def details_of_student(self):\n",
    "        print(\"Student name:\",self.__student_name)\n",
    "        print(\"srudent roll number:\",self.__roll_no)\n",
    "        \n",
    "s1=student(\"Avneesh Kumar\",10)\n",
    "s1.details_of_student()"
   ]
  },
  {
   "cell_type": "markdown",
   "id": "8a457b9a-a906-405b-b307-c9de69f1992c",
   "metadata": {},
   "source": [
    "### 3. How can you achieve encapsulation in Python classes? Provide an example.\n"
   ]
  },
  {
   "cell_type": "code",
   "execution_count": 8,
   "id": "4f40e0ea-bdab-4f7b-8c35-2ef06aa48481",
   "metadata": {},
   "outputs": [
    {
     "name": "stdout",
     "output_type": "stream",
     "text": [
      "Student name: Avneesh Kumar\n",
      "srudent roll number: 10\n"
     ]
    }
   ],
   "source": [
    "class student:\n",
    "    def __init__(self,student_name,roll_no):\n",
    "        self.__student_name=student_name\n",
    "        self.__roll_no=roll_no\n",
    "        \n",
    "    def details_of_student(self):\n",
    "        print(\"Student name:\",self.__student_name)\n",
    "        print(\"srudent roll number:\",self.__roll_no)\n",
    "        \n",
    "s1=student(\"Avneesh Kumar\",10)\n",
    "s1.details_of_student()"
   ]
  },
  {
   "cell_type": "markdown",
   "id": "c0cd5e5a-f2c0-4470-a830-bf90167075c9",
   "metadata": {},
   "source": [
    "### 4. Discuss the difference between public, private, and protected access modifiers in Python.\n"
   ]
  },
  {
   "cell_type": "markdown",
   "id": "f88fd7a6-f9f2-4241-a0a4-a7fdfaeb31b6",
   "metadata": {},
   "source": [
    "- whenever we are try to create the variable name if we start the variable name with double underscore(`example __name`) that is a protectected variable , If we start define the variable name with single underscore(`example _name`) so this is a private variable , if there is no underscore(`Example name`) means this is a public variable and you can call it any where in the programe."
   ]
  },
  {
   "cell_type": "code",
   "execution_count": 23,
   "id": "01072b98-13d6-430b-9118-0480a73ee219",
   "metadata": {},
   "outputs": [
    {
     "name": "stdout",
     "output_type": "stream",
     "text": [
      "Name: Avneesh verma\n",
      "Subject: DSA\n",
      "Email_id avneeshkumar1362@gmail.com\n"
     ]
    }
   ],
   "source": [
    "##Example:-\n",
    "class pwskills:\n",
    "    def __init__(self,name,subject,mail_id):\n",
    "        self.__name=name  ## this is private variable\n",
    "        self._subject=subject ## this is a protected variable\n",
    "        self.mail_id=mail_id   ## This is public variable\n",
    "    \n",
    "    def show_details(self):\n",
    "        print(\"Name:\",self.__name)\n",
    "        print(\"Subject:\",self._subject)\n",
    "        print(\"Email_id\",self.mail_id)\n",
    "        \n",
    "        \n",
    "obje=pwskills(\"Avneesh verma\",\"DSA\",\"avneeshkumar1362@gmail.com\")\n",
    "obje.show_details()"
   ]
  },
  {
   "cell_type": "markdown",
   "id": "8c0be727-ac90-40a4-8ed9-464f47b24075",
   "metadata": {},
   "source": [
    "### 5. Create a Python class called `Person` with a private attribute `__name`. Provide methods to get and set the name attribute.\n"
   ]
  },
  {
   "cell_type": "code",
   "execution_count": 12,
   "id": "4b7f2da3-629f-4191-9aa6-100ff1c584bd",
   "metadata": {},
   "outputs": [
    {
     "data": {
      "text/plain": [
       "['Avneesh Kumar']"
      ]
     },
     "execution_count": 12,
     "metadata": {},
     "output_type": "execute_result"
    }
   ],
   "source": [
    "class person:\n",
    "    def __init__(self):\n",
    "        self.__name=[]\n",
    "        \n",
    "    def set_name(self,data):\n",
    "        self.__name.append(data)\n",
    "        \n",
    "    def get_name(self):\n",
    "        return self.__name\n",
    "a=person()\n",
    "a.set_name(\"Avneesh Kumar\")\n",
    "a.get_name()"
   ]
  },
  {
   "cell_type": "markdown",
   "id": "39ed1f5c-4e05-4cdc-9c92-2efa63303762",
   "metadata": {},
   "source": [
    "### 6. Explain the purpose of getter and setter methods in encapsulation. Provide examples.\n"
   ]
  },
  {
   "cell_type": "markdown",
   "id": "951ae7db-81c5-440f-9515-752d0340b649",
   "metadata": {},
   "source": [
    "- when we want to user can't see the what is the actual implemention of  code in that situation getter and setter comes into picture. We allows to the user only set the value and oly get the value. For example whenever we go to the bank and we have want withdraw some mony from our account ,we fill the withdraw amount and my money is deducted from my account automaticaly ,but we don't konw how it is working or we dont know what is the concept behind this ."
   ]
  },
  {
   "cell_type": "code",
   "execution_count": 13,
   "id": "dbfee7eb-34fd-400a-b00c-e7fe301ca468",
   "metadata": {},
   "outputs": [
    {
     "data": {
      "text/plain": [
       "['Avneesh Kumar']"
      ]
     },
     "execution_count": 13,
     "metadata": {},
     "output_type": "execute_result"
    }
   ],
   "source": [
    "# example:-\n",
    "class person:\n",
    "    def __init__(self):\n",
    "        self.__name=[]\n",
    "        \n",
    "    def set_name(self,data):\n",
    "        self.__name.append(data)\n",
    "        \n",
    "    def get_name(self):\n",
    "        return self.__name\n",
    "a=person()\n",
    "a.set_name(\"Avneesh Kumar\")\n",
    "a.get_name()"
   ]
  },
  {
   "cell_type": "markdown",
   "id": "9401764d-d3d1-4012-9d34-d9bb17fea393",
   "metadata": {},
   "source": [
    "### 7. What is name mangling in Python, and how does it affect encapsulation?\n"
   ]
  },
  {
   "cell_type": "markdown",
   "id": "83077729-802e-45f3-9192-cd4a218fe785",
   "metadata": {},
   "source": [
    "- Mangling is nothing but whenever we create the private variable inside the python ,pthon is itself change the name of this private variable so that we can't acess that variable outside of the program we can use that variable ony inside the program ,so that is something called as mangling. so we acess this variable outside the class with the help of class."
   ]
  },
  {
   "cell_type": "code",
   "execution_count": 21,
   "id": "dad1f57a-c8a9-4240-9dd4-e7671d4c751c",
   "metadata": {},
   "outputs": [
    {
     "name": "stdout",
     "output_type": "stream",
     "text": [
      "10\n",
      "20\n"
     ]
    }
   ],
   "source": [
    "# example :-\n",
    "class test:\n",
    "    a=10\n",
    "    __b=20\n",
    "    \n",
    "a=test()\n",
    "print(a.a)\n",
    "\n",
    "print(a._test__b)\n"
   ]
  },
  {
   "cell_type": "markdown",
   "id": "a752d583-2250-4c52-be3f-542953a6e570",
   "metadata": {},
   "source": [
    "### 8. Create a Python class called `BankAccount` with private attributes for the account balance (`__balance`) and account number (`__account_number`). Provide methods for depositing and withdrawing money.\n"
   ]
  },
  {
   "cell_type": "code",
   "execution_count": 20,
   "id": "fe3fbd9c-5f2b-4836-b52c-e1ed13d8ee0c",
   "metadata": {},
   "outputs": [
    {
     "name": "stdin",
     "output_type": "stream",
     "text": [
      "Enter your eamil_id for account opening avneeshkumar1362@gmail.com\n"
     ]
    },
    {
     "name": "stdout",
     "output_type": "stream",
     "text": [
      "00001234avneeshkumar1362@gmail.com\n"
     ]
    },
    {
     "name": "stdin",
     "output_type": "stream",
     "text": [
      "Enter your money 500\n"
     ]
    },
    {
     "name": "stdout",
     "output_type": "stream",
     "text": [
      "Your deposited amount 500.0\n"
     ]
    },
    {
     "name": "stdin",
     "output_type": "stream",
     "text": [
      "Enter your withdraw amount 122\n"
     ]
    },
    {
     "name": "stdout",
     "output_type": "stream",
     "text": [
      "Your withdraw amount: 122.0\n",
      "Your available balance: 378.0\n"
     ]
    }
   ],
   "source": [
    "class bank_account:\n",
    "    def __init__(self):\n",
    "        self.__balance =0\n",
    "        self.__account_number=\"00001234\"\n",
    "    def open_bankaccount(self):\n",
    "        email=input(\"Enter your eamil_id for account opening\")\n",
    "        account=self.__account_number+email\n",
    "        print(account)\n",
    "       \n",
    "    def deposite(self):\n",
    "        money=float(input(\"Enter your money\"))\n",
    "        self.__balance=self.__balance+money\n",
    "        print(\"Your deposited amount\",money)\n",
    "        \n",
    "    def withdrawa(self):\n",
    "        money=float(input(\"Enter your withdraw amount\"))\n",
    "        self.__balance=self.__balance-money\n",
    "        print(\"Your withdraw amount:\",money)\n",
    "        \n",
    "    def check_available_balance(self):\n",
    "        \n",
    "        print(\"Your available balance:\",self.__balance)\n",
    "        \n",
    "a=bank_account()\n",
    "a.open_bankaccount()\n",
    "a.deposite()\n",
    "a.withdrawa()\n",
    "a.check_available_balance()"
   ]
  },
  {
   "cell_type": "markdown",
   "id": "e3a0b2da-cc1b-4d52-9cb6-b47f9e0f473a",
   "metadata": {},
   "source": [
    "### 9. Discuss the advantages of encapsulation in terms of code maintainability and security.\n"
   ]
  },
  {
   "cell_type": "markdown",
   "id": "a139d733-2b44-4356-aa20-533cfaa28bec",
   "metadata": {},
   "source": [
    "- Incapsulation in oops is a vital feature in oops programing concepts that combines data and operations into the objects .It provide several benifites for the system software ,incuding improve ificiency ,maintability and security ,here are the key advantages of encapsulatin prigraming .\n",
    "\n",
    "\n",
    "### Data protection and security :\n",
    "- Incapsulation in oops hides internal details of object and only exposes relevent informatin through well defines interfaces . safegaurds data and ristrict unautharised acess ,enhance security and minmizing data correption .\n",
    "\n",
    "### Modularity and reusability :\n",
    "- incapslation in opps prmotes the modularity  and reusability by isolating internal implementation and details from the external invoirements.objects can be reused in different parts of a programes or even seprate programes ,reducing devlopment time and efforts .\n",
    "\n",
    "\n",
    "### code maintainbility :\n",
    "- Incapluation in oops simplifies the code maintiance by seprating internal implementation ,from the internal inter face. Changesh to the internal code wan't affect how the object is used externally ,making it easier to modify or improve the internal code without impacting external code .\n",
    "\n",
    "### Informationa hiding :\n",
    "- Incapslution in oops enables the hiding of extraneous data and exposing only essential information to the outside world .By mannaging acess lavels and designated methods ,devlopers can control data manipulation enhance code radablity and avoided unwanted consequences.\n",
    "\n",
    "### code flexbility and extencibility :\n",
    "- In capluation in oops inhance the code flexibility and extensibility by providing a clear and well define enterface for object intraction the internal implementation of an object can change without affecting the code using it ,allowing for easy addition or modification of features ."
   ]
  },
  {
   "cell_type": "markdown",
   "id": "0b3c2407-8958-489c-aef4-54fa0bcc96ae",
   "metadata": {},
   "source": [
    "### 10. How can you access private attributes in Python? Provide an example demonstrating the use of name mangling.\n"
   ]
  },
  {
   "cell_type": "code",
   "execution_count": 25,
   "id": "2f0f68c9-6418-4a34-98e0-19e83bc51241",
   "metadata": {},
   "outputs": [
    {
     "name": "stdout",
     "output_type": "stream",
     "text": [
      "Avneesh Verma\n"
     ]
    }
   ],
   "source": [
    "## Example :- acess the private variable by using the name mangaling:\n",
    "\n",
    "class test:\n",
    "    def __init__(self ,name):\n",
    "        self.__name=name\n",
    "        \n",
    "\n",
    "a=test(\"Avneesh Verma\")\n",
    "print(a._test__name)"
   ]
  },
  {
   "cell_type": "markdown",
   "id": "f5cac1f5-ac68-4fe2-8805-20bf79dc74ef",
   "metadata": {},
   "source": [
    "### 11. Create a Python class hierarchy for a school system, including classes for students, teachers, and courses, and implement encapsulation principles to protect sensitive information.\n"
   ]
  },
  {
   "cell_type": "code",
   "execution_count": 47,
   "id": "c24c7443-1c00-483a-b9ca-ff79b01ea6f2",
   "metadata": {},
   "outputs": [
    {
     "name": "stdout",
     "output_type": "stream",
     "text": [
      "\n",
      "Student Name : Avneesh kumar\n",
      "Session: C\n",
      "School_id 102\n",
      "\n",
      "Hindi Teacher\n",
      "Teacher name: Ramesh dixit\n",
      "age 50\n",
      "\n",
      "English Teacher\n",
      "Teacher name: Grudev\n",
      "age 60\n",
      "\n",
      "math Teacher\n",
      "Teacher name: Ashish ranjan\n",
      "age 40\n",
      "\n",
      "Science Side subject: ('Hindi', 'english', 'Chemistry', 'Biology', 'physics')\n",
      "\n",
      "Agriculture Subject: ('Agronomy, Horticulture, Plant Pathology, Entomology, Agricultural',)\n"
     ]
    }
   ],
   "source": [
    "class students:\n",
    "    def __init__(self,name,session,roll_no,school_id):\n",
    "        self.name = name\n",
    "        self.session=session\n",
    "        self.school_id=school_id\n",
    "        \n",
    "    def student_details(self):\n",
    "        print(\"\\nStudent Name :\",self.name)\n",
    "        print(\"Session:\",self.session)\n",
    "        print(\"School_id\",self.school_id)\n",
    "        \n",
    "class teachers:\n",
    "    def hindi_teacher(self,name,age):\n",
    "        print(\"\\nHindi Teacher\")\n",
    "        self.name=name\n",
    "        self.age=age\n",
    "        print(\"Teacher name:\",self.name)\n",
    "        print(\"age\",self.age)\n",
    "        \n",
    "        \n",
    "    def english_teacher(self,name,age):\n",
    "        print(\"\\nEnglish Teacher\")\n",
    "        self.name=name\n",
    "        self.age=age\n",
    "        print(\"Teacher name:\",self.name)\n",
    "        print(\"age\",self.age)\n",
    "        \n",
    "    def math_teacher(self,name,age):\n",
    "        print(\"\\nmath Teacher\")\n",
    "        self.name=name\n",
    "        self.age=age\n",
    "        print(\"Teacher name:\",self.name)\n",
    "        print(\"age\",self.age)\n",
    "        \n",
    "class cource:\n",
    "    def Science_side(self,*subjects):\n",
    "        self.subjects=subjects\n",
    "        print(\"\\nScience Side subject:\",self.subjects)\n",
    "        \n",
    "    def Agriculture(self,*subjects):\n",
    "        self.subjects=subjects\n",
    "        print(\"\\nAgriculture Subject:\",self.subjects)\n",
    "        \n",
    "s=students(\"Avneesh kumar\",\"C\",12,102)\n",
    "s.student_details()\n",
    "\n",
    "t= teachers()\n",
    "t.hindi_teacher(\"Ramesh dixit\",50)\n",
    "t.english_teacher(\"Grudev\",60)\n",
    "t.math_teacher(\"Ashish ranjan\",40)\n",
    "\n",
    "c=cource()\n",
    "c.Science_side(\"Hindi\",\"english\",\"Chemistry\",\"Biology\",\"physics\")\n",
    "c.Agriculture(\"Agronomy, Horticulture, Plant Pathology, Entomology, Agricultural\")\n",
    "        \n",
    "        \n",
    "        "
   ]
  },
  {
   "cell_type": "markdown",
   "id": "bffc3016-bd2a-4def-9eac-cfdf02e8a867",
   "metadata": {},
   "source": [
    "### 12. Explain the concept of property decorators in Python and how they relate to encapsulation.\n"
   ]
  },
  {
   "cell_type": "markdown",
   "id": "6a0010c9-32f6-4401-8b27-f2798e468cc8",
   "metadata": {},
   "source": [
    "- Decorator is nothing but its kind of a capability which is given inside the python so where you can try to use nature of a one functions or may be a prioerty of a one function into another function and same goes with the classes so whenever we are talking about classes and objects so the way you should decorate our houses in a festivel session so its not like change the property of our houses , property of house is not change but again we try to add a feature on top of our houses but our houses looks beautiful."
   ]
  },
  {
   "cell_type": "code",
   "execution_count": 3,
   "id": "00cd0dff-a8a8-47a3-999c-eb6486165c60",
   "metadata": {},
   "outputs": [
    {
     "name": "stdout",
     "output_type": "stream",
     "text": [
      "This is the start of my inner function\n",
      "This is my test1\n",
      "This is the end of my inner test\n"
     ]
    }
   ],
   "source": [
    "### Example :-\n",
    "def test(func):\n",
    "    def inner_test():\n",
    "        print(\"This is the start of my inner function\")\n",
    "        \n",
    "        func()\n",
    "        print(\"This is the end of my inner test\")\n",
    "        \n",
    "    return inner_test\n",
    "\n",
    "@test\n",
    "def test1():\n",
    "    print(\"This is my test1\")\n",
    "    \n",
    "test1()   "
   ]
  },
  {
   "cell_type": "markdown",
   "id": "4ab4c177-648f-4243-a5ed-4059c56ebc75",
   "metadata": {},
   "source": [
    "### 13. What is data hiding, and why is it important in encapsulation? Provide examples.\n"
   ]
  },
  {
   "cell_type": "markdown",
   "id": "57fc8990-1a94-409b-a26b-3ef4f1279552",
   "metadata": {},
   "source": [
    "- Data Hiding and Encapsulation are important concepts in object-oriented programming (OOP). Data hiding helps prevent the illegal or unauthorized access of members of a class, while encapsulation helps in the wrapping up of data members and methods inside a class. The most basic difference between data hiding and encapsulation is that data hiding focuses on data security, while encapsulation focuses on hiding the complexity of the system.\n",
    "\n",
    "### data hiding:-\n",
    "\n",
    "- In object-oriented programming (OOP), data hiding is one of the important concepts that ensures the security of members of a class from illegal access. Therefore, data hiding protects the data members from being changed or hacked. As we know, data is the most sensitive and volatile content of a program, and the manipulation of this data can produce an incorrect result. Also, it may affects the integrity of the data.\n",
    "- `Example :- `Now, let us consider an example to understand the concept of data hiding. Let we declared a BankAccount class and we have a data member AcBalance inside this class. Here, the account balance is a sensitive information. In this example, we may allow an external application to check the account balance, but we would not allow the application to change the account balance. Hence, in this case, we restrict the alternation in account balance by declaring the account balance attribute private. The major advantage of data hiding is that it reduces the complexity of the system.\n",
    "\n",
    "\n"
   ]
  },
  {
   "cell_type": "markdown",
   "id": "e63dfc96-bb3a-4ba1-b4cf-28b67b0b1076",
   "metadata": {},
   "source": [
    "### 14. Create a Python class called `Employee` with private attributes for salary (`__salary`) and employee ID (`__employee_id`). Provide a method to calculate yearly bonuses.\n"
   ]
  },
  {
   "cell_type": "code",
   "execution_count": 11,
   "id": "17e7902f-fc32-48dd-9cba-1292e40cf7c6",
   "metadata": {},
   "outputs": [
    {
     "name": "stdout",
     "output_type": "stream",
     "text": [
      "Employe salary: 1000\n",
      "Employe Id: 101\n"
     ]
    },
    {
     "name": "stdin",
     "output_type": "stream",
     "text": [
      "Enter your current Year 2023\n",
      "Enter your joining year 2020\n"
     ]
    },
    {
     "name": "stdout",
     "output_type": "stream",
     "text": [
      "Bonus of Rs : 2500 /-\n"
     ]
    }
   ],
   "source": [
    "class employ :\n",
    "    def __init__(self,salary,employe_id ):\n",
    "        self.__salary=salary\n",
    "        self.__employe_id=employe_id\n",
    "        \n",
    "    \n",
    "    def show_employ_details(self):\n",
    "        print(\"Employe salary:\",self.__salary)\n",
    "        print(\"Employe Id:\",self.__employe_id)\n",
    "        \n",
    "    def cal_early_bonus(self):\n",
    "        current_year=int(input(\"Enter your current Year\"))\n",
    "        joining_year=int(input(\"Enter your joining year\"))\n",
    "        diff=current_year-joining_year\n",
    "        \n",
    "        if diff>=3:\n",
    "            print(\"Bonus of Rs : 2500 /-\")\n",
    "            \n",
    "        else:\n",
    "            print(\"You are not eligble for bonus\")\n",
    "a=employ(1000,101)\n",
    "a.show_employ_details()\n",
    "a.cal_early_bonus()\n"
   ]
  },
  {
   "cell_type": "markdown",
   "id": "51a1622b-3007-4124-b90c-6cdc09d6c281",
   "metadata": {},
   "source": [
    "### 15. Discuss the use of accessors and mutators in encapsulation. How do they help maintain control over attribute access?"
   ]
  },
  {
   "cell_type": "markdown",
   "id": "3ba41ff6-c103-4c2a-aa12-18de0c3542f7",
   "metadata": {},
   "source": [
    "### accessors:-(getter method):-\n",
    "- This method acess or read data of the variable,this method do not modifiy data in the variable .This is also called as a getter method . \n",
    "\n",
    "\n",
    "\n",
    "\n",
    "### Mutator:-(setter method):-\n",
    "- This method is use to access or read and modify data of the variable , This method modifiy the data in the variable ,this method also called as a setter method ."
   ]
  },
  {
   "cell_type": "code",
   "execution_count": 2,
   "id": "e28fa52a-3ca4-4910-a521-ed3e2ae0d67c",
   "metadata": {},
   "outputs": [
    {
     "data": {
      "text/plain": [
       "'Avneesh kumar'"
      ]
     },
     "execution_count": 2,
     "metadata": {},
     "output_type": "execute_result"
    }
   ],
   "source": [
    "## Example for the accessors:-\n",
    "class student:\n",
    "    def __init__(self):\n",
    "        self.name=\"Avneesh kumar\"\n",
    "    def get_name(self):\n",
    "        return self.name\n",
    "    \n",
    "obj=student()\n",
    "obj.get_name()"
   ]
  },
  {
   "cell_type": "code",
   "execution_count": 4,
   "id": "707c3599-3188-47ef-955e-560d8411e574",
   "metadata": {},
   "outputs": [
    {
     "name": "stdout",
     "output_type": "stream",
     "text": [
      "Hi\n"
     ]
    },
    {
     "data": {
      "text/plain": [
       "'Nitish verma'"
      ]
     },
     "execution_count": 4,
     "metadata": {},
     "output_type": "execute_result"
    }
   ],
   "source": [
    "### Example of the mutators:-\n",
    "class student:\n",
    "    def __init__(self):\n",
    "        print(\"Hi\")\n",
    "    def set_name(self,name):\n",
    "        self.name=name\n",
    "        return self.name\n",
    "obje=student()\n",
    "obje.set_name(\"Nitish verma\")\n"
   ]
  },
  {
   "cell_type": "markdown",
   "id": "942c69f6-6694-4691-b363-165e8f7e2f2c",
   "metadata": {},
   "source": [
    "### 16. What are the potential drawbacks or disadvantages of using encapsulation in Python?\n"
   ]
  },
  {
   "cell_type": "markdown",
   "id": "32f8aaf3-e91f-482c-9158-d6d7acb4af7d",
   "metadata": {},
   "source": [
    " - Encapsulation is a valuable concept in Python and object-oriented programming (OOP). However, it’s important to acknowledge that there can be some potential disadvantages or challenges associated with encapsulation. Here are the key disadvantages of encapsulation in Python:\n",
    " \n",
    "### Increased Complexity: \n",
    "- Encapsulation can introduce additional complexity to the codebase, especially when getter and setter methods are used extensively. This complexity can make the code harder to read and maintain, particularly in large projects.\n",
    "### Boilerplate Code: -\n",
    "- Implementing getter and setter methods for every attribute can result in boilerplate code that clutters the class definition. This can make the code verbose and less readable.\n",
    "### Performance Overhead: \n",
    "- In some cases, using getter and setter methods can introduce a slight performance overhead compared to direct attribute access. While this overhead is generally negligible, it may be a consideration in performance-critical applications.\n",
    "## Potential Over-Engineering: \n",
    "- Overusing encapsulation by defining getter and setter methods for every attribute, even when they are not needed, can lead to over-engineering. This can make the code more complex than necessary.\n",
    "### Code Repetition: \n",
    "- Encapsulation can lead to code repetition, especially when multiple classes have similar getter and setter methods. Maintaining consistent getter and setter implementations across classes can be challenging.\n",
    "### Limited Flexibility: \n",
    "- Encapsulation can restrict flexibility, as direct access to attributes is prevented. In some cases, it may be necessary to directly access or modify an attribute for performance reasons or to meet specific requirements.\n",
    "### Learning Curve: \n",
    "- Developers new to a codebase may face a learning curve when dealing with encapsulated classes, as they need to understand the class’s interface and how to use getter and setter methods.\n",
    "### Increased Verbosity: \n",
    "- Encapsulation can increase code verbosity, particularly when classes have many attributes. This can make the code harder to read and may require more effort to write.\n",
    "### False Sense of Security: \n",
    "- While encapsulation helps control access to attributes, it does not provide absolute security. Private attributes can still be accessed using various techniques in Python, such as name mangling. Encapsulation should not be relied upon as the sole means of security.\n",
    "### Tight Coupling:  \n",
    "- Overly encapsulated classes with many getter and setter methods can become tightly coupled to the implementation details of the class. This can make it more challenging to change the class’s internal structure without affecting external code.\n",
    "### Potential for Misuse: \n",
    "- Developers may misuse encapsulation by exposing too much or too little through getter and setter methods, leading to unexpected behavior or data leakage."
   ]
  },
  {
   "cell_type": "markdown",
   "id": "94418140-0858-4fab-a604-1407a4e0ac6c",
   "metadata": {},
   "source": [
    "### 17. Create a Python class for a library system that encapsulates book information, including titles, authors, and availability status.\n"
   ]
  },
  {
   "cell_type": "code",
   "execution_count": 33,
   "id": "3500a827-77a5-4568-b6ad-a49a0bc68d4b",
   "metadata": {},
   "outputs": [
    {
     "name": "stdout",
     "output_type": "stream",
     "text": [
      "Title: ['Rich dad and poor dad']\n",
      "Author: ['Eluon musk']\n",
      "Available books in my library: ['Rich dad and poor dad']\n",
      "You have borrowed 'Rich dad and poor dad'.\n",
      "Available books in my library: []\n"
     ]
    }
   ],
   "source": [
    "class Library:\n",
    "    def __init__(self):\n",
    "        self.__title = [] \n",
    "        self.__author=[]\n",
    "    def add_title(self, books,author):\n",
    "        self.__title.append(books) \n",
    "        self.__author.append(author)\n",
    "\n",
    "    def borrow_book(self, book_name):\n",
    "        if book_name in self.__title:  \n",
    "            self.__title.remove(book_name)\n",
    "            return f\"You have borrowed '{book_name}'.\"\n",
    "        else:\n",
    "            return \"Your book is not available.\"\n",
    "        \n",
    "    def show_title_and_author(self):\n",
    "        print(\"Title:\",self.__title)\n",
    "        print(\"Author:\",self.__author)\n",
    "\n",
    "    def display_books(self): \n",
    "        print(\"Available books in my library:\", self.__title)\n",
    "\n",
    "\n",
    "# Example usage:\n",
    "a = Library()\n",
    "a.add_title(\"Rich dad and poor dad\",\"Eluon musk\")\n",
    "a.show_title_and_author()\n",
    "a.display_books()\n",
    "\n",
    "\n",
    "\n",
    "result = a.borrow_book(\"Rich dad and poor dad\")\n",
    "print(result)\n",
    "\n",
    "a.display_books()"
   ]
  },
  {
   "cell_type": "markdown",
   "id": "181c9512-a1d9-468a-8608-3ecbd005a7df",
   "metadata": {},
   "source": [
    "### 18. Explain how encapsulation enhances code reusability and modularity in Python programs.\n"
   ]
  },
  {
   "cell_type": "markdown",
   "id": "a48d30c2-3ffe-4cd0-8f9c-4b0179cde4ef",
   "metadata": {},
   "source": [
    "## Advantage of incapsulation:-\n",
    "\n",
    "### Data Protection:\n",
    "- Encapsulation protects an object’s internal state by restricting direct access to its attributes. Private attributes are not accessible from outside the class, preventing unintended data modification or corruption.\n",
    "###  Data Validation: \n",
    "- Encapsulation allows classes to enforce rules and validations when accessing or modifying data. This ensures that data remains consistent and adheres to specified criteria, reducing the risk of errors.\n",
    "### Abstraction:  \n",
    "- Encapsulation supports abstraction by exposing only the essential properties and behaviors of an object to external code. This simplifies interactions with objects and hides complex implementation details, improving code clarity.\n",
    "### Code Organization:\n",
    "- Encapsulation encourages well-organized code by grouping related data and behavior within a class. This modularity enhances code structure, making it more manageable and readable.\n",
    "### Security: \n",
    "- Encapsulation enhances security by controlling access to sensitive data. Private attributes are not directly accessible from outside the class, reducing the risk of unauthorized data manipulation or tampering.\n",
    "### Code Maintenance: \n",
    "- Encapsulation simplifies code maintenance. When changes to the internal implementation of a class are required, the external interface (public methods and attributes) can remain unchanged. This minimizes the impact on other parts of the codebase and reduces the risk of introducing bugs during updates.\n",
    "### Code Reusability: \n",
    "- Encapsulation promotes code reusability. Well-defined interfaces and controlled access to data allow for the creation of reusable components that can be integrated into different parts of the codebase.\n",
    "### Collaboration: \n",
    "- Encapsulation facilitates collaboration among developers and teams. Classes expose clear interfaces that define how objects should be used. This allows different teams to work on different components simultaneously without interfering with each other’s work.\n",
    "### Change Management: \n",
    "- Encapsulation simplifies change management. When requirements evolve or design changes are necessary, encapsulated objects can adapt to new demands while minimizing disruptions to existing code.\n",
    "### Documentation: \n",
    "- Encapsulation serves as a form of documentation. Public methods and attributes define the contract for how objects should be used. This documentation helps developers understand how to interact with objects without delving into the implementation details.\n",
    "### Simplicity:\n",
    "- Encapsulation promotes simplicity by hiding unnecessary complexity. Developers can focus on the high-level behavior of objects and rely on well-defined interfaces, making code more concise and easier to maintain.\n",
    "### Consistency: \n",
    "- Encapsulation contributes to code consistency. Objects that adhere to encapsulation principles behave predictably and consistently, following the rules defined by their interfaces."
   ]
  },
  {
   "cell_type": "markdown",
   "id": "defa40dc-066a-4f00-9b2b-51815a49f512",
   "metadata": {},
   "source": [
    "### 19. Describe the concept of information hiding in encapsulation. Why is it essential in software development?\n"
   ]
  },
  {
   "cell_type": "markdown",
   "id": "8d0767c2-f5ac-48ce-a99d-0a2ff5056e1d",
   "metadata": {},
   "source": [
    "### concept of information hiding:\n",
    "- If we are writhing any code for software devlopmet lets supose i am not want to show case all the inforamtion to the user in that case we use the infromation hidinng concept.I'll try to give the some kind of a method by which user can only enter the data and see the result i'dont want user can see all the  information.Incaplutio allows the internal workings of a class to be hidden from the outside world ,which privent the missuse of data and ensure that the data is accessed and modified only through the methods peovides by the class ."
   ]
  },
  {
   "cell_type": "markdown",
   "id": "65fe2222-abe4-47e4-b3e1-c7fcff86dc93",
   "metadata": {},
   "source": [
    "### 20. Create a Python class called `Customer` with private attributes for customer details like name, address, and contact information. Implement encapsulation to ensure data integrity and security."
   ]
  },
  {
   "cell_type": "code",
   "execution_count": 10,
   "id": "b84b5152-d55e-417a-bcef-5c7db6405b95",
   "metadata": {},
   "outputs": [
    {
     "name": "stdout",
     "output_type": "stream",
     "text": [
      "\n",
      "Coustomer Name: Avneesh kumar\n",
      "Coustomer Address: Village jhara post pareli diss lakhimpur kher\n",
      "Contact Details: 7607241362\n",
      "\n",
      "Coustomer Name: Nitish verma\n",
      "Coustomer Address: Village southan post bhallia bujurg\n",
      "Contact Details: 7275652982\n"
     ]
    }
   ],
   "source": [
    "class costomers:\n",
    "    def __init__(self,name,address,contact):\n",
    "        self.__name=name\n",
    "        self.__address=address\n",
    "        self.__contact=contact\n",
    "        \n",
    "    def costomer_details(self): \n",
    "        print(\"\\nCoustomer Name:\",self.__name)\n",
    "        print(\"Coustomer Address:\",self.__address)\n",
    "        print(\"Contact Details:\",self.__contact)\n",
    "        \n",
    "cos1=costomers(\"Avneesh kumar\",\"Village jhara post pareli diss lakhimpur kher\",7607241362)\n",
    "cos1.costomer_details()\n",
    "\n",
    "cos2=costomers(\"Nitish verma\",\"Village southan post bhallia bujurg\",7275652982)\n",
    "cos2.costomer_details()"
   ]
  },
  {
   "cell_type": "markdown",
   "id": "b3d39a77-6376-4ff2-930d-9dac4e2c3dc7",
   "metadata": {},
   "source": [
    "## Polymorphism:\n"
   ]
  },
  {
   "cell_type": "markdown",
   "id": "cda02b1b-afc5-417a-884f-b411c0272ac4",
   "metadata": {},
   "source": [
    "### 1. What is polymorphism in Python? Explain how it is related to object-oriented programming.\n"
   ]
  },
  {
   "cell_type": "markdown",
   "id": "0a1ccd61-c7de-41d3-9419-b6c010dcfe16",
   "metadata": {},
   "source": [
    "- Im a persion so at same point of time may be behabing as a student or may be some time behaving as a child or some time behaving as a devloper or may be in my houses i am behabing as a  a brothers or uncles so basicaly person is same but by nature my behaviour different - different in a different -different situation or in a diiferent senarios and this is where polymorphism comes into a picture means your objects are going to be same but nature of those object is going to be different as per the situation  as per the scenario in which you are going to place those objects and this is where concept of polymorphism comes into a picture and that is a very lamain diffinition very easy to understsnd .\n"
   ]
  },
  {
   "cell_type": "code",
   "execution_count": 13,
   "id": "360d5ca8-1d5f-4980-ae23-d994071ddc9d",
   "metadata": {},
   "outputs": [
    {
     "data": {
      "text/plain": [
       "5"
      ]
     },
     "execution_count": 13,
     "metadata": {},
     "output_type": "execute_result"
    }
   ],
   "source": [
    "## example:-\n",
    "\n",
    "def test(a,b):\n",
    "    return a+b\n",
    "\n",
    "test(2,3)\n"
   ]
  },
  {
   "cell_type": "code",
   "execution_count": 15,
   "id": "6061ccac-e6a9-4b79-b659-917d4c42a892",
   "metadata": {},
   "outputs": [
    {
     "data": {
      "text/plain": [
       "'AvneeshVerma'"
      ]
     },
     "execution_count": 15,
     "metadata": {},
     "output_type": "execute_result"
    }
   ],
   "source": [
    "test(\"Avneesh\",\"Verma\")"
   ]
  },
  {
   "cell_type": "markdown",
   "id": "7d151e44-bbf7-480e-a1fe-7ccab1da219a",
   "metadata": {},
   "source": [
    "### 2. Describe the difference between compile-time polymorphism and runtime polymorphism in Python.\n"
   ]
  },
  {
   "cell_type": "markdown",
   "id": "d79a5e10-51b8-4f62-938b-9ac19324499e",
   "metadata": {},
   "source": [
    "- Polymorphism is one of the most important OOPs concepts. Its is a concept by which we can perform single task in multiple ways. There are two types of polymorphism one is Compile-time polymorphism and another is run-time polymorphism.\n",
    "\n",
    "- Method overloading is the example of compile time polymorphism and  method overriding is the example of run-time polymorphism.\n",
    "\n",
    "### Compile time polymorphism :-\n",
    "-  Compile time polymorphism means binding is occuring at compile time.\n",
    "-  It can be achieved through static binding.\n",
    "- Inheritance is not involved.\n",
    "- Method overloading is  an example of compile time polymorphism.\n",
    "\n",
    "### Runtime Polymorphism :-\n",
    "- Run time polymorphism where at run time we came to know which method is going to invoke.\n",
    "- It can be achieved through dynamic binding.\n",
    "- Inheritance is involved.\n",
    "- Method overriding is an example of runtime polymorphism"
   ]
  },
  {
   "cell_type": "markdown",
   "id": "1257d172-8b2e-4e8b-b52e-b4f9ee4ff8ce",
   "metadata": {},
   "source": [
    "### 3. Create a Python class hierarchy for shapes (e.g., circle, square, triangle) and demonstrate polymorphism through a common method, such as `calculate_area()`.\n"
   ]
  },
  {
   "cell_type": "code",
   "execution_count": 50,
   "id": "a51bbef7-f9d8-4712-991f-d17a0a00ae53",
   "metadata": {},
   "outputs": [
    {
     "name": "stdout",
     "output_type": "stream",
     "text": [
      "Area of cirlce: 314.0\n",
      "Area of square: 200\n",
      "Area of trangle: 70.0\n"
     ]
    }
   ],
   "source": [
    "class shap:\n",
    "    def __init__(self,length=0,wedith=0,height=0):\n",
    "        self.length=length\n",
    "        self.wedith=wedith\n",
    "        self.height=height\n",
    "    \n",
    "class circle(shap):\n",
    "    def are_of_circle(self):\n",
    "        print(\"Area of cirlce:\",self.wedith*self.wedith*3.14)\n",
    "\n",
    "\n",
    "class square(shap):\n",
    "    def area_of_squere(self):\n",
    "        print(\"Area of square:\",self.length*self.wedith)\n",
    "        \n",
    "class triangle(shap):\n",
    "    def area_of_tringle(self):\n",
    "        print(\"Area of trangle:\",0.5*self.length*self.height)\n",
    "        \n",
    "c=circle(wedith=10)\n",
    "c.are_of_circle()\n",
    "\n",
    "s=square(length=10,wedith=20)\n",
    "s.area_of_squere()\n",
    "\n",
    "t=triangle(length=10,height=14)\n",
    "t.area_of_tringle()"
   ]
  },
  {
   "cell_type": "markdown",
   "id": "194f8de9-f638-49c2-a37c-81db5a032c6e",
   "metadata": {},
   "source": [
    "### 4. Explain the concept of method overriding in polymorphism. Provide an example.\n"
   ]
  },
  {
   "cell_type": "markdown",
   "id": "a3fda3d2-ea2a-49b8-bf2f-dfca92fa2719",
   "metadata": {},
   "source": [
    "- Whenever we use the any methods or any information from the parents class inside the child class without rewriting the method or inherit the soem property from the parent class that is aomething called as method overloading "
   ]
  },
  {
   "cell_type": "code",
   "execution_count": 2,
   "id": "7b204e47-bbe3-4b79-a188-e261d7b5f81d",
   "metadata": {},
   "outputs": [
    {
     "name": "stdout",
     "output_type": "stream",
     "text": [
      "This will give me details about data science student:\n",
      "This will give me details about the big data student :\n"
     ]
    }
   ],
   "source": [
    "# example:-\n",
    "class pwskills:\n",
    "    def student(self):\n",
    "        pass\n",
    "    \n",
    "class data_science:\n",
    "    def student(self):\n",
    "        print(\"This will give me details about data science student:\")\n",
    "        \n",
    "class big_data: \n",
    "    def student(self):\n",
    "        \n",
    "        print(\"This will give me details about the big data student :\")\n",
    "        \n",
    "avneesh=data_science()\n",
    "nitish=big_data()\n",
    "avneesh.student()\n",
    "nitish.student()"
   ]
  },
  {
   "cell_type": "markdown",
   "id": "7d5f3760-a182-4558-90fc-b004def55939",
   "metadata": {},
   "source": [
    "### 5. How is polymorphism different from method overloading in Python? Provide examples for both.\n"
   ]
  },
  {
   "cell_type": "markdown",
   "id": "b9b9c9ba-dddb-4a73-a016-9f457681782c",
   "metadata": {},
   "source": [
    "- Inside the polymorphism method is same but it behaves differently in the different - different situstions lets supose I am a person how is behaing as a students and whenever we will be inside our houses at that point of time we behaves differently like some time as a uncle or some time may be as a brother and sister but me as a single person who is behaving differently in a different - different situations .But inside the overloading we 'll be try to inherit the some property from the parent class .so thats why polymorphism is different from the method overlosding ."
   ]
  },
  {
   "cell_type": "markdown",
   "id": "56e82b3b-69a0-4135-9d0e-298cf12cd7d7",
   "metadata": {},
   "source": [
    "### 6. Create a Python class called `Animal` with a method `speak()`. Then, create child classes like `Dog`, `Cat`, and `Bird`, each with their own `speak()` method. Demonstrate polymorphism by calling the `speak()` method on objects of different subclasses.\n"
   ]
  },
  {
   "cell_type": "code",
   "execution_count": 71,
   "id": "ae1db9e0-46dd-47a1-8e6f-2296ac4537a3",
   "metadata": {},
   "outputs": [
    {
     "name": "stdout",
     "output_type": "stream",
     "text": [
      "This is a generic animal\n",
      "This is a dog named tomy. It is 12 years old.\n",
      "This is a cat named mary. It is 10 years old.\n"
     ]
    }
   ],
   "source": [
    "class animal:\n",
    "    def __init__(self,name,age):\n",
    "        self.name=name\n",
    "        self.age=age\n",
    "        \n",
    "    def spesk(self):\n",
    "        print(\"This is a generic animal\")\n",
    "        \n",
    "class dog(animal):\n",
    "    def speak(self):\n",
    "        print(f\"This is a dog named {self.name}. It is {self.age} years old.\")\n",
    "    \n",
    "class cat(animal):\n",
    "    def speak(self):\n",
    "        print(f\"This is a cat named {self.name}. It is {self.age} years old.\")\n",
    "    \n",
    "if __name__==\"__main__\":\n",
    "    obj_ani=animal(\"Generic Animal\",0)\n",
    "    obj_ani.spesk()\n",
    "    \n",
    "    obj_dog=dog(\"tomy\",12)\n",
    "    obj_dog.speak()\n",
    "\n",
    "    obj_cat=cat(\"mary\",10)\n",
    "    obj_cat.speak()"
   ]
  },
  {
   "cell_type": "markdown",
   "id": "fc6350de-56e3-4a70-b48e-1f47783879f1",
   "metadata": {},
   "source": [
    "### 7. Discuss the use of abstract methods and classes in achieving polymorphism in Python. Provide an example using the `abc` module.\n"
   ]
  },
  {
   "cell_type": "markdown",
   "id": "7baee9d3-d380-4673-bee9-987925f6ba22",
   "metadata": {},
   "source": [
    "- Basicly kind of a concept where we try to create the skeleton or you can say that i try to create a otline of any object or outline of any object kind of a stracture we try to create and that is something called as abstraction .\n",
    "### Example :\n",
    "- Lets supose i am trying to start a big project  inside that big project are not one and two devlovers there are so many devlopers and managers ,Now i am a persion who is managing this project and i am a person who is trying to create a skeleton , i would say code level of skeleton for intire project so we try to say that there are 10 devlopers so ok one devloper is will implement these methods by making sure that mathod name and covention and noenclature is not going to be changed means i'am defining the guidelines i am definig the rules, as a manager which evry developer is supose to follow and they are just supose to write a implementaton in a different - different classes i'll just define the skeleton of it that these are the classes inside that these are the methods we have to create  now lets supose nitish is basicaly trying to create or write a perticular  definition for a perticular method so what nitish will do so nitish will try to inherit my class give a diffinition means write a implementation of the method and nitish will always make sure that he is using the same method name and nomenclature which i have defined as a manager nitish is not supose to do something else and only i say that ,that obstraction is been implemented ,my skeleton is been implemented ."
   ]
  },
  {
   "cell_type": "code",
   "execution_count": 60,
   "id": "3de621c5-afff-4871-8b20-c6c111bd63df",
   "metadata": {},
   "outputs": [],
   "source": [
    "### Example of code :-\n",
    "\n",
    "from abc import ABC,abstractmethod\n",
    "\n",
    "class pwskills(ABC):\n",
    "    @abstractmethod\n",
    "    def databaseconect(self):\n",
    "        pass \n",
    "    \n",
    "    @abstractmethod\n",
    "    def check_user_enrolement(self,user_mobile_num):\n",
    "        pass\n",
    "    \n",
    "    @abstractmethod\n",
    "    def check_completed_lec(self,user_id,class_id):\n",
    "        pass\n",
    "    @abstractmethod\n",
    "    def intrenship(self,user_id,class_):\n",
    "        pass"
   ]
  },
  {
   "cell_type": "markdown",
   "id": "28c1eba7-7314-4c25-bab8-85e0fce33941",
   "metadata": {},
   "source": [
    "### 8. Create a Python class hierarchy for a vehicle system (e.g., car, bicycle, boat) and implement a polymorphic `start()` method that prints a message specific to each vehicle type.\n"
   ]
  },
  {
   "cell_type": "code",
   "execution_count": 7,
   "id": "eed01fe8-569d-456b-8ffd-d65447d84adc",
   "metadata": {},
   "outputs": [
    {
     "name": "stdout",
     "output_type": "stream",
     "text": [
      "\n",
      "vehical is generic class\n",
      "Car is started now \n",
      "\n",
      "vehical is generic class\n",
      "Bicyling is good for health\n",
      "\n",
      "vehical is generic class\n",
      "Boat is started now\n"
     ]
    }
   ],
   "source": [
    "class vehical:\n",
    "    def __init__(self):\n",
    "        print(\"\\nvehical is generic class\")\n",
    "        \n",
    "class car(vehical):\n",
    "    def start(self):\n",
    "        print(\"Car is started now \")\n",
    "class bicycle(vehical):\n",
    "    def start(self):\n",
    "        print(\"Bicyling is good for health\")\n",
    "        \n",
    "class boat(vehical):\n",
    "    def start(self):\n",
    "        print(\"Boat is started now\")\n",
    "a=car()\n",
    "a.start()\n",
    "b=bicycle()\n",
    "b.start()\n",
    "c=boat()\n",
    "c.start()\n"
   ]
  },
  {
   "cell_type": "markdown",
   "id": "370714bf-cc90-4c86-82ec-8e2474440b41",
   "metadata": {},
   "source": [
    "### 9. Explain the significance of the `isinstance()` and `issubclass()` functions in Python polymorphism.\n"
   ]
  },
  {
   "cell_type": "markdown",
   "id": "1b9be084-c56d-4fe7-bca8-4481e8c4a87f",
   "metadata": {},
   "source": [
    "- The instance of a class is different than the subclass. We can create as many instance of a class as we like. You can think class as a ‘blueprint’ and the instances as the objects created using the blueprint. For example, if we have a class ‘Car’ with an attribute ‘color’, we can create different instance or objects of ‘Car’ class with different values for this attribute. We can create objects or instances of ‘Car’ with different ‘color’ like ‘blue’,’red_’,’green’_ etc.\n",
    "\n",
    "- Sometimes we need to check if an object is an instance of a class or not, and also if a class is a subclass of a different class or not. In python we can do it pretty easily using two functions called ‘isinstance()’ and_ ‘issubclass()’_. Most of us get confused with isinstance() and issubclass() functions in python. isinstance() is used to check if an object is an instance of a certain class or any of its subclass. Again, issubclass() is used to check if a class type is the subclass of a different class.This method is used to check if an object is an instance of a class. It takes two parameters. The first one is the object to test and the second one is a single class or a tuple of classes. It will check if the first parameter object is an instance of class classinfo. If the second parameter is a tuple of classes, it will check if the first object is an instance of any of the classes in the tuple.\n",
    "\n"
   ]
  },
  {
   "cell_type": "code",
   "execution_count": 14,
   "id": "e1f9d869-6bcb-4dbe-9520-a029fb23472b",
   "metadata": {},
   "outputs": [
    {
     "name": "stdout",
     "output_type": "stream",
     "text": [
      "Name: Avneesh\n",
      "Class: Data science\n",
      "True\n",
      "True\n"
     ]
    }
   ],
   "source": [
    "## Examople:-\n",
    "\n",
    "class student :\n",
    "    def student_name(self,name):\n",
    "        self.name=name\n",
    "        print(\"Name:\",self.name)\n",
    "        \n",
    "    def student_class(self,cla):\n",
    "        self.cla=cla\n",
    "        print(\"Class:\",self.cla)\n",
    "        \n",
    "        \n",
    "class school(student):\n",
    "    pass\n",
    "\n",
    "obje=student()\n",
    "obje.student_name(\"Avneesh\")\n",
    "obje.student_class(\"Data science\")\n",
    "\n",
    "print(isinstance(obje,student))    ### Inside this we can try to check obje is a object of student class or not .\n",
    "\n",
    "\n",
    "print(issubclass(school,student))   ##### inside thia we can try to check school is a subclass of a student class or not."
   ]
  },
  {
   "cell_type": "markdown",
   "id": "6242fa1e-08cd-4b8d-bdb4-588612d93c21",
   "metadata": {},
   "source": [
    "### 10. What is the role of the `@abstractmethod` decorator in achieving polymorphism in Python? Provide an example.\n"
   ]
  },
  {
   "cell_type": "markdown",
   "id": "dc0509fa-09d6-41cf-84e3-188aa75373fc",
   "metadata": {},
   "source": [
    "- Basicly kind of a concept where we try to create the skeleton or you can say that i try to create a otline of any object or outline of any object kind of a stracture we try to create and that is something called as abstraction .\n",
    "### Example :\n",
    "- Lets supose i am trying to start a big project  inside that big project are not one and two devlovers there are so many devlopers and managers ,Now i am a persion who is managing this project and i am a person who is trying to create a skeleton , i would say code level of skeleton for intire project so we try to say that there are 10 devlopers so ok one devloper is will implement these methods by making sure that mathod name and covention and noenclature is not going to be changed means i'am defining the guidelines i am definig the rules, as a manager which evry developer is supose to follow and they are just supose to write a implementaton in a different - different classes i'll just define the skeleton of it that these are the classes inside that these are the methods we have to create  now lets supose nitish is basicaly trying to create or write a perticular  definition for a perticular method so what nitish will do so nitish will try to inherit my class give a diffinition means write a implementation of the method and nitish will always make sure that he is using the same method name and nomenclature which i have defined as a manager nitish is not supose to do something else and only i say that ,that obstraction is been implemented ,my skeleton is been implemented ."
   ]
  },
  {
   "cell_type": "code",
   "execution_count": 22,
   "id": "71db93b9-1763-4b1f-abff-5285806d7ed6",
   "metadata": {},
   "outputs": [
    {
     "name": "stdout",
     "output_type": "stream",
     "text": [
      "Every car have four wheel\n",
      "Maruti car speed has 100km/h\n"
     ]
    }
   ],
   "source": [
    "from abc import ABC,abstractmethod\n",
    "\n",
    "class car :\n",
    "    def wheel(self):\n",
    "        print(\"Every car have four wheel\")\n",
    "    @abstractmethod\n",
    "    def speed(self):\n",
    "        pass \n",
    "class maruti(car):\n",
    "    def speed(self):\n",
    "        print(\"Maruti car speed has 100km/h\")\n",
    "        \n",
    "obj_maruti=maruti()\n",
    "obj_maruti.wheel()\n",
    "obj_maruti.speed()\n"
   ]
  },
  {
   "cell_type": "markdown",
   "id": "a66e10c5-9bd7-4281-a834-5ec644284d78",
   "metadata": {},
   "source": [
    "### 11. Create a Python class called `Shape` with a polymorphic method `area()` that calculates the area of different shapes (e.g., circle, rectangle, triangle).\n"
   ]
  },
  {
   "cell_type": "code",
   "execution_count": 74,
   "id": "89ea1d5b-8022-4c72-b3f0-e15c101dbba0",
   "metadata": {},
   "outputs": [
    {
     "name": "stdout",
     "output_type": "stream",
     "text": [
      "Area of cirlce: 314.0\n",
      "Area of square: 200\n",
      "Area of trangle: 70.0\n"
     ]
    }
   ],
   "source": [
    "class shap:\n",
    "    def __init__(self,length=0,wedith=0,height=0):\n",
    "        self.length=length\n",
    "        self.wedith=wedith\n",
    "        self.height=height\n",
    "    \n",
    "class circle(shap):\n",
    "    def are_of_circle(self):\n",
    "        print(\"Area of cirlce:\",self.wedith*self.wedith*3.14)\n",
    "\n",
    "\n",
    "class square(shap):\n",
    "    def area_of_squere(self):\n",
    "        print(\"Area of square:\",self.length*self.wedith)\n",
    "        \n",
    "class triangle(shap):\n",
    "    def area_of_tringle(self):\n",
    "        print(\"Area of trangle:\",0.5*self.length*self.height)\n",
    "        \n",
    "c=circle(wedith=10)\n",
    "c.are_of_circle()\n",
    "\n",
    "s=square(length=10,wedith=20)\n",
    "s.area_of_squere()\n",
    "\n",
    "t=triangle(length=10,height=14)\n",
    "t.area_of_tringle()"
   ]
  },
  {
   "cell_type": "markdown",
   "id": "6895b5c1-7a3f-4f74-9a6b-28bb9de2e0d4",
   "metadata": {},
   "source": [
    "### 12. Discuss the benefits of polymorphism in terms of code reusability and flexibility in Python programs.\n"
   ]
  },
  {
   "cell_type": "markdown",
   "id": "5cf121ed-9683-4be2-8437-41fa1365d21d",
   "metadata": {},
   "source": [
    "### Benefits of Polymorphism\n",
    "\n",
    "### Code Reusability: \n",
    "- Polymorphism allows you to reuse the code written for the base class, reducing redundancy and promoting cleaner, more concise code.\n",
    "### Flexibility and Extensibility: \n",
    "- With polymorphism, you can add new derived classes without modifying existing code. This makes your codebase more flexible and easily extensible.\n",
    "### Simplified Maintenance: \n",
    "- Polymorphic code is easier to maintain as changes to the base class can automatically propagate to all derived classes, ensuring consistent behavior throughout the application.\n",
    "### Enhanced Readability: \n",
    "- Polymorphism promotes a more intuitive and readable coding style, as objects can be treated at a higher level of abstraction without worrying about their specific implementations."
   ]
  },
  {
   "cell_type": "markdown",
   "id": "988c5089-f391-4900-8eb7-c313d4a8bd97",
   "metadata": {},
   "source": [
    "### 13. Explain the use of the `super()` function in Python polymorphism. How does it help call methods of parent classes?\n"
   ]
  },
  {
   "cell_type": "markdown",
   "id": "9fdc7c3e-4e67-4587-9067-3c85769b755e",
   "metadata": {},
   "source": [
    "- super() function is nothing but with the helpof this i can inherit the some propertiesd from my parent class ,or  with the help of super i 'm trying to reinitilise the previous class variables thats it ."
   ]
  },
  {
   "cell_type": "code",
   "execution_count": 83,
   "id": "8fcfa2aa-1410-47d8-ad0b-6d1ff2059f51",
   "metadata": {},
   "outputs": [
    {
     "name": "stdout",
     "output_type": "stream",
     "text": [
      "krish krish123@gmail.com\n"
     ]
    }
   ],
   "source": [
    "class pwskills:\n",
    "    def __init__(self,mentor):\n",
    "        self.mentor=mentor\n",
    "        \n",
    "    def mentor_name(self):\n",
    "        print(self.mentor)\n",
    "        \n",
    "class data_science(pwskills):\n",
    "    def __init__(self,mentor,mentor_mail_id):\n",
    "        super().__init__(mentor)\n",
    "        self.mentor_mail_id=mentor_mail_id\n",
    "        \n",
    "    def show_info(self):\n",
    "        print(self.mentor,self.mentor_mail_id)\n",
    "        \n",
    "a=data_science(\"krish\",\"krish123@gmail.com\")\n",
    "a.show_info()"
   ]
  },
  {
   "cell_type": "markdown",
   "id": "5a97a72f-94d0-4b0c-97fe-09bd8809f511",
   "metadata": {},
   "source": [
    "### 14. Create a Python class hierarchy for a banking system with various account types (e.g., savings, checking, credit card) and demonstrate polymorphism by implementing a common `withdraw()` method.\n"
   ]
  },
  {
   "cell_type": "code",
   "execution_count": 6,
   "id": "aff778f4-fadd-4025-8286-f7ef26060657",
   "metadata": {},
   "outputs": [
    {
     "name": "stdout",
     "output_type": "stream",
     "text": [
      "You try to withdraw amount from saving account\n"
     ]
    },
    {
     "name": "stdin",
     "output_type": "stream",
     "text": [
      "Enter your withdrawal amount: 55\n"
     ]
    },
    {
     "name": "stdout",
     "output_type": "stream",
     "text": [
      "Your withdra amount: 55.0\n",
      "Your available balance: 445.0\n",
      "-----------------------------------------------------\n",
      "You try to withdraw amount from checking account\n"
     ]
    },
    {
     "name": "stdin",
     "output_type": "stream",
     "text": [
      "Enter your withdrawal amount: 88\n"
     ]
    },
    {
     "name": "stdout",
     "output_type": "stream",
     "text": [
      "Your withdrawal amount: 88.0\n",
      "Your available balance: 312.0\n",
      "-----------------------------------------------------\n",
      "You try to withdraw amount from the credit card\n"
     ]
    },
    {
     "name": "stdin",
     "output_type": "stream",
     "text": [
      "Enter your withdrawl amount: 44\n"
     ]
    },
    {
     "name": "stdout",
     "output_type": "stream",
     "text": [
      "Your withdrawl amount : 44.0\n",
      "Your available balance: 956.0\n",
      "-----------------------------------------------------\n"
     ]
    }
   ],
   "source": [
    "class banking:\n",
    "    def __init__(self):\n",
    "        self.saving_account_balance=500\n",
    "        self.checking_account_balance=400\n",
    "        self.credit_card_balace=1000\n",
    "        \n",
    "        \n",
    "class saving(banking):\n",
    "    \n",
    "    def withdraw_amount(self):\n",
    "        print(\"You try to withdraw amount from saving account\")\n",
    "        amount=float(input(\"Enter your withdrawal amount:\"))\n",
    "        self.saving_account_balance=self.saving_account_balance-amount\n",
    "        print(\"Your withdra amount:\",amount)\n",
    "        print(\"Your available balance:\",self.saving_account_balance)\n",
    "        print(\"-----------------------------------------------------\")\n",
    "        \n",
    "        \n",
    "class checking(banking):\n",
    "    \n",
    "    def withdraw_amount(self):\n",
    "        print(\"You try to withdraw amount from checking account\")\n",
    "        amount=float(input(\"Enter your withdrawal amount:\"))\n",
    "        self.checking_account_balance=self.checking_account_balance-amount\n",
    "        print(\"Your withdrawal amount:\",amount)\n",
    "        print(\"Your available balance:\",self.checking_account_balance)\n",
    "        print(\"-----------------------------------------------------\")\n",
    "        \n",
    "class credit_card(banking):\n",
    "    \n",
    "    def withdraw_amount(self):\n",
    "        print(\"You try to withdraw amount from the credit card\")\n",
    "        amount=float(input(\"Enter your withdrawl amount:\"))\n",
    "        self.credit_card_balace=self.credit_card_balace-amount\n",
    "        print(\"Your withdrawl amount :\",amount)\n",
    "        print(\"Your available balance:\",self.credit_card_balace)\n",
    "        print(\"-----------------------------------------------------\")\n",
    "        \n",
    "a_saving=saving()\n",
    "a_saving.withdraw_amount()\n",
    "\n",
    "b_checking=checking()\n",
    "b_checking.withdraw_amount()\n",
    "\n",
    "c_credit_card=credit_card()\n",
    "c_credit_card.withdraw_amount()"
   ]
  },
  {
   "cell_type": "markdown",
   "id": "c89fad14-d12e-49ea-9869-a6db0ef9d154",
   "metadata": {},
   "source": [
    "### 15. Describe the concept of operator overloading in Python and how it relates to polymorphism. Provide examples using operators like `+` and `*`.\n"
   ]
  },
  {
   "cell_type": "markdown",
   "id": "93f76298-7397-4f3e-9da3-8eb6d9475ea0",
   "metadata": {},
   "source": [
    "- operator over loading is nothing but lets supose we create the two class \"int\" class and \"str\" class and we try to perform some sort of operation like addition , inside int class we create the addition method and inside the str class we overide the same method to perform concatination operation.so that is something called as operator overloading .Operator overloading is relates to the polymorphism in terms of using same method for a different situation.lets try to understend with the help of example how to achive these things in a easyset possible way.\n"
   ]
  },
  {
   "cell_type": "code",
   "execution_count": 35,
   "id": "95d723ba-029d-4c45-a2e8-93400cd379e2",
   "metadata": {},
   "outputs": [
    {
     "name": "stdout",
     "output_type": "stream",
     "text": [
      "Sum is : 3\n",
      "Sum is : AvneeshKumar\n"
     ]
    }
   ],
   "source": [
    "### EXAMPLE:-\n",
    "class intiger:\n",
    "    def __init__(self,a,b):\n",
    "        self.a=a\n",
    "        self.b=b\n",
    "        \n",
    "    def addition(self):\n",
    "        print(\"Sum is :\",self.a+self.b)\n",
    "        \n",
    "class string(intiger):\n",
    "    pass\n",
    "\n",
    "a=intiger(1,2)\n",
    "a.addition()\n",
    "\n",
    "b=string(\"Avneesh\",\"Kumar\")\n",
    "b.addition()"
   ]
  },
  {
   "cell_type": "markdown",
   "id": "83614f16-4b10-400b-a802-de8151d4aae4",
   "metadata": {},
   "source": [
    "### 16. What is dynamic polymorphism, and how is it achieved in Python?\n"
   ]
  },
  {
   "cell_type": "markdown",
   "id": "c1202d5d-c653-4b6a-a5aa-e75d67ca306c",
   "metadata": {},
   "source": [
    "- Polymorphism in Python is the ability of one object to take on multiple forms. This is done by creating multiple classes inherited from a single base class. Each class can then be used interchangeably, as they all share the same interface. This allows for a great degree of flexibility when it comes to programming."
   ]
  },
  {
   "cell_type": "code",
   "execution_count": 4,
   "id": "d37388f9-2ea0-4101-9610-f8a9837bd409",
   "metadata": {},
   "outputs": [
    {
     "name": "stdout",
     "output_type": "stream",
     "text": [
      "Base class\n",
      "Derived class\n"
     ]
    }
   ],
   "source": [
    "class A:\n",
    "    def show(self):\n",
    "        print (\"Base class\")\n",
    "\n",
    "class B(A):  # this would also work fine without deriving: class B: \n",
    "    def show(self):\n",
    "        print (\"Derived class\")\n",
    "\n",
    "a = A()\n",
    "a.show()\n",
    "a = B()\n",
    "a.show()"
   ]
  },
  {
   "cell_type": "markdown",
   "id": "e6012543-9e43-4a39-b5dc-1afac93f5153",
   "metadata": {},
   "source": [
    "### 17. Create a Python class hierarchy for employees in a company (e.g., manager, developer, designer) and implement polymorphism through a common `calculate_salary()` method.\n"
   ]
  },
  {
   "cell_type": "code",
   "execution_count": 51,
   "id": "b1fedc54-c0f3-42e9-83c5-ac1c783603a8",
   "metadata": {},
   "outputs": [
    {
     "name": "stdout",
     "output_type": "stream",
     "text": [
      "Manager salary is: 2000.0\n",
      "\n",
      "devloper salary is: 2600.0\n",
      "\n",
      "designer salary is: 83333.33333333334\n"
     ]
    }
   ],
   "source": [
    "class company:\n",
    "    def __init__(self,salary):\n",
    "        self.salary=salary\n",
    "        \n",
    "class manager(company):\n",
    "    def calculate_salary(self,work_hours):\n",
    "        overtime=0\n",
    "        if work_hours>12:\n",
    "            overtime=work_hours-12\n",
    "        self.salary=self.salary+(overtime*(self.salary/12))\n",
    "        print(\"Manager salary is:\",self.salary)\n",
    "        \n",
    "class developer(company):\n",
    "    def calculate_salary(self,work_hours):\n",
    "        overtime=0\n",
    "        if work_hours>12:\n",
    "            overtime=work_hours-12\n",
    "        self.salary=self.salary+(overtime*(self.salary/12))\n",
    "        print(\"\\ndevloper salary is:\",self.salary)\n",
    "        \n",
    "        \n",
    "class designer(company):\n",
    "    def calculate_salary(self,work_hours):\n",
    "        overtime=0\n",
    "        if work_hours>12:\n",
    "            overtime=work_hours-12\n",
    "        self.salary=self.salary+(overtime*(self.salary/12))\n",
    "        print(\"\\ndesigner salary is:\",self.salary)\n",
    "    \n",
    "        \n",
    "manager=manager(1000)\n",
    "manager.calculate_salary(24)\n",
    "devloper=developer(1200)\n",
    "devloper.calculate_salary(26)\n",
    "desig=designer(40000)\n",
    "desig.calculate_salary(25)\n"
   ]
  },
  {
   "cell_type": "markdown",
   "id": "7314dbd4-4d99-464e-b4e3-e846b18730c4",
   "metadata": {},
   "source": [
    "### 18. Discuss the concept of function pointers and how they can be used to achieve polymorphism in Python.\n"
   ]
  },
  {
   "cell_type": "markdown",
   "id": "7d6e08c5-a734-4fce-8175-a592cd11065d",
   "metadata": {},
   "source": [
    "- whenever you are trying to write a function inside a classes you have to write always a very first parameter as a pointer and ingeneral you will be able to find out something called as self , now self is not a keyword you can give my name and your name over there . Runtime polymorphism can be achieved only through a poiters(or reference) of base class type also a base class pointers can point the objects of base class as well as to the objects of derived class  "
   ]
  },
  {
   "cell_type": "markdown",
   "id": "8f6ba1d0-19ba-4aad-8c76-13ccfa8db927",
   "metadata": {},
   "source": [
    "### 19. Explain the role of interfaces and abstract classes in polymorphism, drawing comparisons between them.\n"
   ]
  },
  {
   "cell_type": "markdown",
   "id": "da57b952-4f56-4b92-b051-94457806e998",
   "metadata": {},
   "source": [
    "#### Abstract class :- \n",
    "- A blueprint for other classes might be thought of as an abstract class. You may use it to define a collection of methods that are required for all subclasses derived from the abstract class. An abstract class is one that includes one or more abstract methods. A method that has a declaration but no implementation is said to be abstract. We use an abstract class for creating huge functional units. An abstract class is used to offer a standard interface for various implementations of a component.\n",
    "- ` Example:`-Python does not come with any abstract classes by default. Python has a module called ABC that serves as the foundation for building Abstract Base Classes (ABC). ABC works by decorating methods of the base class as abstract and then registering concrete classes as implementations of the abstract base. When a method is decorated with the keyword @abstractmethod, it becomes abstract.\n",
    "\n",
    "\n",
    "#### Interfaces :-\n",
    "- The interface in object-oriented languages like Python is a set of method signatures that the implementing class is expected to provide. Writing ordered code and achieving abstraction are both possible through interface implementation.\n",
    "- `Example:`\n",
    "- Python “object interfaces” are implemented in the module zope.interface.  It is maintained by the Zope Toolkit project. Two objects, “Interface” and “Attribute,” are directly exported by the package. Several helper methods are also exported by it. Compared to Python’s built-in abc module, it strives to give stronger semantics and better error messages.\n",
    "####  Declaring interface: \n",
    "- In Python, an interface is defined using Python class statements and is a subclass of interface.Interface which is the parent interface for all interfaces.\n",
    "\n",
    "### Comparision W/B them :-\n",
    "#### Abstract Class :- \n",
    "- 1- An abstract features developer’s class can consist of abstract as well as concrete methods .\n",
    "- 2- It is used when there are some common feature shared by all objects.\n",
    "- 3- Its developer responsibility to create a child class for the features of an abstract class.\n",
    "- 4- It is comparatively fast.\n",
    "\n",
    "\n",
    "#### Interface :-\n",
    "- 1- All methods of an interface are abstract.\n",
    "- 2- It is used when all the feature need to be implemented differently for different objects\n",
    "- 3- Any 3rd person will responsible for creating a child class.\n",
    "- 4- It is comparatively slow."
   ]
  },
  {
   "cell_type": "code",
   "execution_count": 1,
   "id": "d357add7-2609-43e0-8abe-6ee9f6a31091",
   "metadata": {},
   "outputs": [
    {
     "name": "stdout",
     "output_type": "stream",
     "text": [
      "I can walk and run\n",
      "I can crawl\n",
      "I can bark\n",
      "I can roar\n"
     ]
    }
   ],
   "source": [
    "### Example of abstract class :-\n",
    "\n",
    "\n",
    "from abc import ABC, abstractmethod \n",
    "class Animal(ABC): \n",
    "  \n",
    "    def move(self): \n",
    "        pass\n",
    "class Human(Animal): \n",
    "  \n",
    "    def move(self): \n",
    "        print(\"I can walk and run\") \n",
    "class Snake(Animal): \n",
    "  \n",
    "    def move(self): \n",
    "        print(\"I can crawl\") \n",
    "class Dog(Animal): \n",
    "  \n",
    "    def move(self): \n",
    "        print(\"I can bark\") \n",
    "class Lion(Animal): \n",
    "  \n",
    "    def move(self): \n",
    "        print(\"I can roar\") \n",
    "          \n",
    "# Driver code \n",
    "R = Human() \n",
    "R.move() \n",
    "  \n",
    "K = Snake() \n",
    "K.move() \n",
    "  \n",
    "R = Dog() \n",
    "R.move() \n",
    "  \n",
    "K = Lion() \n",
    "K.move() "
   ]
  },
  {
   "cell_type": "markdown",
   "id": "7da80a34-b1f1-473b-8825-06f7f8d8b4a8",
   "metadata": {},
   "source": [
    "### 20. Create a Python class for a zoo simulation, demonstrating polymorphism with different animal types (e.g., mammals, birds, reptiles) and their behavior (e.g., eating, sleeping, making sounds)."
   ]
  },
  {
   "cell_type": "code",
   "execution_count": 59,
   "id": "39ef6bed-cf29-4895-a280-fa5cb575216e",
   "metadata": {},
   "outputs": [
    {
     "name": "stdout",
     "output_type": "stream",
     "text": [
      "This is eat cooked food\n",
      "This is making sound: \n"
     ]
    }
   ],
   "source": [
    "class zoo:\n",
    "    def __init__(self,name):\n",
    "        self.name=name\n",
    "        \n",
    "    def eating(self,food):\n",
    "        print(\"This is eat\",food)\n",
    "        \n",
    "    def sleepin(self,sleep):\n",
    "        print(\"This is sleepng:\",sleep)\n",
    "        \n",
    "    def making_soun(self,sound):\n",
    "        print(\"This is making sound:\",sound)\n",
    "    \n",
    "        \n",
    "class mammals(zoo):\n",
    "    pass\n",
    "\n",
    "class birds(zoo):\n",
    "    pass\n",
    "class reptile(zoo):\n",
    "    pass \n",
    "\n",
    "ob_mammals=mammals(\"Mammals\")\n",
    "ob_mammals.eating(\"cooked food\")\n",
    "ob_mammals.making_soun(\"\")\n",
    "    "
   ]
  },
  {
   "cell_type": "markdown",
   "id": "b1c3ecc3-301a-4fb5-af63-f44c61fe668a",
   "metadata": {},
   "source": [
    "## Abstraction:\n"
   ]
  },
  {
   "cell_type": "markdown",
   "id": "40320a74-d596-4704-b4df-42ef17a2a669",
   "metadata": {},
   "source": [
    "### 1. What is abstraction in Python, and how does it relate to object-oriented programming?\n"
   ]
  },
  {
   "cell_type": "markdown",
   "id": "e2bf4645-2375-45cd-83ad-d25589cb5236",
   "metadata": {},
   "source": [
    "- Basicaly kind of a concept where we try to create the skeleton or you can say that ai try to create a outline of any project or outline of any class  or object method kind of a stracture we try to create and that is something called as abstraction . how i will be able to achieve it and  how i will be do it ,so here achieve the abstraction are a multiple ways not a one or two ways by which i will be able to implement the abstraction lets ,try to understand what is the actual meaning of a abstraction and how i will be able to achive those abstraction with respect to a classes lets to understand with the help of example.\n",
    "\n",
    "- `Example:-`: lets supose i am trying to start a big project and inside that big projet there are 10-20 devlopers now i am person who is managing this intire project and i am a person who is trying to create a skeleton of a code ,level of a skeleton for a intire project so when we try to define code level skeleton for the entire project so we try to say that there are 10 developers so ok one developer will implement these many methods and then other developers will implement these methods by making sure that method name and convention and nomenclature is not going to be changed means i am defining the guidelines or i'm defining rules as a manager which everyone developer supode to follow and they are just supose to write a implementation in a different - different class i 'll just define the skeleton of it that these are the classes and inside that these are the mathod we have to create now lets supose nitish is basicaly trying to create or a perticular definition for a perticular method so what nitish will do so nitish will try to inherit my class and give a diffinition means write a implementation of the method and done and nitish will always make sure that nomenclature which i have define as a manager nithing is not supose to do something else and then only i say that abstraction is been implemented."
   ]
  },
  {
   "cell_type": "code",
   "execution_count": 13,
   "id": "f029afd4-9018-4b7d-95f3-751e14094f7b",
   "metadata": {},
   "outputs": [
    {
     "name": "stdout",
     "output_type": "stream",
     "text": [
      "\n",
      "Every car have a four wheel\n",
      "maratu car speed 100km/h\n",
      "\n",
      "Every car have a four wheel\n",
      "Swift car speed 150km/h\n"
     ]
    }
   ],
   "source": [
    "### Example:-\n",
    "from abc import ABC,abstractmethod\n",
    "\n",
    "class car :\n",
    "    def wheel(self):\n",
    "        print(\"\\nEvery car have a four wheel\")\n",
    "        \n",
    "    def speed(self):\n",
    "        pass\n",
    "    \n",
    "class maruti(car):\n",
    "    def speed(self):\n",
    "        print(\"maratu car speed 100km/h\")\n",
    "        \n",
    "class swift(car):\n",
    "    def speed(self):\n",
    "        print(\"Swift car speed 150km/h\")\n",
    "        \n",
    "        \n",
    "obje_maruti=maruti()\n",
    "obje_maruti.wheel()\n",
    "obje_maruti.speed()\n",
    "\n",
    "\n",
    "obje_swift=swift()\n",
    "obje_swift.wheel()\n",
    "obje_swift.speed()\n"
   ]
  },
  {
   "cell_type": "markdown",
   "id": "65f8944c-35af-4c28-868a-3b04af54e99f",
   "metadata": {},
   "source": [
    "### 2. Describe the benefits of abstraction in terms of code organization and complexity reduction.\n"
   ]
  },
  {
   "cell_type": "markdown",
   "id": "238bbe3e-e315-4ae9-b599-779c05204737",
   "metadata": {},
   "source": [
    "\n",
    "- Abstraction is a key concept in Object-Oriented Programming (OOP) that includes hiding extraneous information and reflecting only the essential characteristics of an object or system. This method has a number of advantages that improve the overall efficacy and efficiency of software development. The advantages of abstraction in OOP are detailed below:\n",
    "\n",
    "1. Better readability and maintainability of code: By obscuring complicated implementation details, abstraction helps to make code simpler. The code becomes simpler to comprehend and work with by exposing only the fundamental properties and behaviors of an object or system. By making the code more readable, it becomes easier to maintain over time. Instead of getting bogged down in the intricate implementation details, developers may concentrate on the higher-level design and functionality.\n",
    "\n",
    "2. Less difficult code thanks to abstraction: Instead of having to deal with low-level implementation details, abstraction enables developers to work with higher-level concepts and entities. As a result, the codebase is less complex and easier to manage. Developers may concentrate on the essential functionality and design by abstracting away superfluous complexity, which results in cleaner, more manageable code. The total development process is enhanced and the likelihood of mistakes and faults is decreased thanks to this simplification.\n",
    "\n",
    "3. Better code reuse: Abstraction encourages the development of classes or components that can be used repeatedly. Developers can lay the groundwork for the construction of various objects or systems by establishing abstract classes or interfaces that offer a common set of behaviors. Multiple classes can extend or implement these abstract entities, allowing for code reuse and fostering a modular and scalable architecture. This not only speeds up development but also ensures consistency and lessens codebase redundancy.\n",
    "\n",
    "4. More adaptable code: The design and implementation of code are made more adaptable through abstraction. Changes to the underlying code can be done without having an impact on the higher-level code that depends on it by abstracting away particular implementation details. By encouraging loose coupling between components, the codebase is made more flexible and changeable in the future. Additionally, it makes maintenance and updates simpler because changes can be made locally on the appropriate abstract entities without affecting the entire codebase."
   ]
  },
  {
   "cell_type": "markdown",
   "id": "5dc3f8e2-5fce-4326-8c65-80854eecb67a",
   "metadata": {},
   "source": [
    "### 3. Create a Python class called `Shape` with an abstract method `calculate_area()`. Then, create child classes (e.g., `Circle`, `Rectangle`) that implement the `calculate_area()` method. Provide an example of using these classes.\n"
   ]
  },
  {
   "cell_type": "code",
   "execution_count": 11,
   "id": "484f24a5-989e-4e63-8bf7-ed8e20e1e776",
   "metadata": {},
   "outputs": [
    {
     "name": "stdout",
     "output_type": "stream",
     "text": [
      "Area of circle: 314.0\n",
      "Area of rectangle: 200\n"
     ]
    }
   ],
   "source": [
    "class shape:\n",
    "    def __init__(self,length=0,width=0,height=0):\n",
    "        self.length=length\n",
    "        self.width=width\n",
    "        self.height=height\n",
    "        \n",
    "        \n",
    "class circle(shape):\n",
    "    def cal_area(self):\n",
    "        area=self.width*self.width*3.14\n",
    "        print(\"Area of circle:\",area)\n",
    "        \n",
    "class rectangle(shape):\n",
    "    def cal_area(self):\n",
    "        area=self.length*self.width\n",
    "        print(\"Area of rectangle:\",area)\n",
    "        \n",
    "        \n",
    "area_of_circle=circle(width=10)\n",
    "area_of_circle.cal_area()\n",
    "\n",
    "area_of_rectangle=rectangle(length=10,width=20)\n",
    "area_of_rectangle.cal_area()"
   ]
  },
  {
   "cell_type": "markdown",
   "id": "c7703cb3-6c95-4a60-b095-f741c3f317d9",
   "metadata": {},
   "source": [
    "### 4. Explain the concept of abstract classes in Python and how they are defined using the `abc` module. Provide an example.\n"
   ]
  },
  {
   "cell_type": "markdown",
   "id": "2514c7a1-a570-4c2e-a57a-05a45827c789",
   "metadata": {},
   "source": [
    "- Abstraction is nothing but a its kind of a method by which you can try to create outline of a classes and objects . creation of object of a abstract class is not possible .\n",
    "#### Key Characteristics:\n",
    "- Contain at least one abstract method, marked with the @abstractmethod decorator.\n",
    "- Often contain concrete methods that can be inherited.\n",
    "- Defined using the abc module: from abc import ABC, abstractmethod\n"
   ]
  },
  {
   "cell_type": "code",
   "execution_count": 24,
   "id": "4003f02a-200f-4c26-a9c7-f2a4488f42e9",
   "metadata": {},
   "outputs": [],
   "source": [
    "### Example of code :-\n",
    "\n",
    "from abc import ABC,abstractmethod\n",
    "\n",
    "class pwskills(ABC):\n",
    "    @abstractmethod\n",
    "    def databaseconect(self):\n",
    "        pass \n",
    "    \n",
    "    @abstractmethod\n",
    "    def check_user_enrolement(self,user_mobile_num):\n",
    "        pass\n",
    "    \n",
    "    @abstractmethod\n",
    "    def check_completed_lec(self,user_id,class_id):\n",
    "        pass\n",
    "    @abstractmethod\n",
    "    def intrenship(self,user_id,class_):\n",
    "        pass"
   ]
  },
  {
   "cell_type": "markdown",
   "id": "3f0b6b1c-b169-40b5-9c5d-a5087e11a0c0",
   "metadata": {},
   "source": [
    "### 5. How do abstract classes differ from regular classes in Python? Discuss their use cases.\n"
   ]
  },
  {
   "cell_type": "markdown",
   "id": "a9a8ee85-52b5-4988-b954-182fcfc36de8",
   "metadata": {},
   "source": [
    "### Abstract Classes:\n",
    "\n",
    "- Definition: A blueprint for derived classes, defining a set of methods that subclasses must implement. They cannot be instantiated directly.\n",
    "#### Key Characteristics:\n",
    "- Contain at least one abstract method, marked with the @abstractmethod decorator.\n",
    "- Often contain concrete methods that can be inherited.\n",
    "- Defined using the abc module: from abc import ABC, abstractmethod\n",
    "\n",
    "\n",
    "### Regular Classes:\n",
    "\n",
    "- Definition: Concrete classes that can be instantiated to create objects.\n",
    "#### Key Characteristics:\n",
    "- Define attributes and methods that represent the state and behavior of objects.\n",
    "- Can be instantiated directly to create instances."
   ]
  },
  {
   "cell_type": "markdown",
   "id": "42fbc8d5-303b-48b3-bd7e-30afd6b79815",
   "metadata": {},
   "source": [
    "### 6. Create a Python class for a bank account and demonstrate abstraction by hiding the account balance and providing methods to deposit and withdraw funds.\n"
   ]
  },
  {
   "cell_type": "code",
   "execution_count": 25,
   "id": "4d4595ad-184d-4d1c-92b3-afcc90acc908",
   "metadata": {},
   "outputs": [
    {
     "name": "stdin",
     "output_type": "stream",
     "text": [
      "Enter account holder name Avneesh kumar\n"
     ]
    },
    {
     "name": "stdout",
     "output_type": "stream",
     "text": [
      "Account holder name: Avneesh kumar\n"
     ]
    },
    {
     "name": "stdin",
     "output_type": "stream",
     "text": [
      "Enter your mail id avneeshkumar1362@gmail.com\n",
      "Enter your fund amount to deposite 5000\n"
     ]
    },
    {
     "name": "stdout",
     "output_type": "stream",
     "text": [
      "Your deposited fund : 5000.0\n"
     ]
    },
    {
     "name": "stdin",
     "output_type": "stream",
     "text": [
      "Enter your fund to withdraw: 44\n"
     ]
    },
    {
     "name": "stdout",
     "output_type": "stream",
     "text": [
      "Your withdrawl fund: 44.0\n",
      "Your available fund: 4956.0\n"
     ]
    }
   ],
   "source": [
    "class bank:\n",
    "    def __init__(self):\n",
    "        self.__balance = 0\n",
    "    \n",
    "    \n",
    "    def opnen_bank_account(self):\n",
    "        name=input(\"Enter account holder name\")\n",
    "        print(\"Account holder name:\",name)\n",
    "        mail=input(\"Enter your mail id\")\n",
    "        return \"Your account number is:\",name+mail\n",
    "    \n",
    "    def deposit_funds(self):\n",
    "        fund=float(input(\"Enter your fund amount to deposite\"))\n",
    "        self.__balance=self.__balance+fund\n",
    "        print(\"Your deposited fund :\",fund)\n",
    "        \n",
    "    def withdraw_fund(self):\n",
    "        fund=float(input(\"Enter your fund to withdraw:\"))\n",
    "        self.__balance=self.__balance-fund\n",
    "        print(\"Your withdrawl fund:\",fund)\n",
    "        print(\"Your available fund:\",self.__balance)\n",
    "        \n",
    "a=bank()\n",
    "a.opnen_bank_account()\n",
    "a.deposit_funds()\n",
    "a.withdraw_fund()\n",
    "        "
   ]
  },
  {
   "cell_type": "markdown",
   "id": "ec61e0f9-2c4c-469f-8e40-b3d7ad237a1a",
   "metadata": {},
   "source": [
    "### 7. Discuss the concept of interface classes in Python and their role in achieving abstraction.\n"
   ]
  },
  {
   "cell_type": "markdown",
   "id": "60a41f72-7206-4108-b577-85f170e03fa9",
   "metadata": {},
   "source": [
    "- The interface in object-oriented languages like Python is a set of method signatures that the implementing class is expected to provide. Writing ordered code and achieving abstraction are both possible through interface implementation."
   ]
  },
  {
   "cell_type": "markdown",
   "id": "a6c019e1-e5ff-42b5-bec6-912d28264278",
   "metadata": {},
   "source": [
    "### 8. Create a Python class hierarchy for animals and implement abstraction by defining common methods (e.g., `eat()`, `sleep()`) in an abstract base class.\n"
   ]
  },
  {
   "cell_type": "code",
   "execution_count": 29,
   "id": "d0b8dcfb-b280-4b67-9d81-46152353bbdc",
   "metadata": {},
   "outputs": [
    {
     "name": "stdout",
     "output_type": "stream",
     "text": [
      "Dog eats food\n",
      "Dog sleeps in day and night as per a situation\n",
      "Cat eats mouse\n",
      "Cat sleeps day and night as per a situation\n",
      "Lion eats meat\n",
      "Lion sleeps day and night as per asituation\n"
     ]
    }
   ],
   "source": [
    "from abc import ABC ,abstractmethod\n",
    "class animal(ABC):\n",
    "    @abstractmethod\n",
    "    def eat(self):\n",
    "        pass \n",
    "    def sleep(self):\n",
    "        pass\n",
    "class dog(animal):\n",
    "    def eat(self):\n",
    "        print(\"Dog eats food\")\n",
    "        \n",
    "    def sleep(self):\n",
    "        print(\"Dog sleeps in day and night as per a situation\")\n",
    "class cat(animal):\n",
    "    def eat(self):\n",
    "        print(\"Cat eats mouse\")\n",
    "    def sleep(self):\n",
    "        print(\"Cat sleeps day and night as per a situation\")\n",
    "        \n",
    "class lion(animal):\n",
    "    def eat(self):\n",
    "        print(\"Lion eats meat\")\n",
    "    def sleep(self):\n",
    "        print(\"Lion sleeps day and night as per asituation\")\n",
    "        \n",
    "ob_dog=dog()\n",
    "ob_dog.eat()\n",
    "ob_dog.sleep()\n",
    "\n",
    "\n",
    "ob_cat=cat()\n",
    "ob_cat.eat()\n",
    "ob_cat.sleep()\n",
    "\n",
    "ob_lion=lion()\n",
    "ob_lion.eat()\n",
    "ob_lion.sleep()"
   ]
  },
  {
   "cell_type": "markdown",
   "id": "1e39e61d-1726-4660-9665-031b71220e9a",
   "metadata": {},
   "source": [
    "### 9. Explain the significance of encapsulation in achieving abstraction. Provide examples.\n"
   ]
  },
  {
   "cell_type": "markdown",
   "id": "7eff703d-65cb-4c64-bbf4-793160f51425",
   "metadata": {},
   "source": [
    "### Incapsulation:- \n",
    "- Incapsulation is hiding the importent details from the user and encapsulation focus upon the implementation that gives rise to this behaviour encapsulation is most often achieved through information hiding, which is the process of hiding all of the secrets of  object that do not contribute to its essential characteristics.\n",
    "\n",
    "### Abstraction :-\n",
    " - Definition: A blueprint for derived classes, defining a set of methods that subclasses must implement. They cannot be instantiated directly.\n",
    "#### Key Characteristics:\n",
    "- Contain at least one abstract method, marked with the @abstractmethod decorator.\n",
    "- Often contain concrete methods that can be inherited.\n",
    "- Defined using the abc module: from abc import ABC, abstractmethod"
   ]
  },
  {
   "cell_type": "code",
   "execution_count": 49,
   "id": "1ca47a68-ab95-442e-87f2-27fd43ab8507",
   "metadata": {},
   "outputs": [
    {
     "name": "stdout",
     "output_type": "stream",
     "text": [
      "\n",
      "Employe details\n",
      "name: Avneesh\n",
      "Id : 10\n",
      "mail: avneeshkumar1362@gmail.com\n",
      "\n",
      "Employe details\n",
      "name: Nitish kumr\n",
      "Id : 11\n",
      "mail: nitishkumar@gmail.com\n"
     ]
    }
   ],
   "source": [
    "### Example :\n",
    "\n",
    "from abc import ABC,abstractmethod\n",
    "\n",
    "class pwskills(ABC):\n",
    "    @abstractmethod\n",
    "    def employe_details(self,name,employe_id,mo_num,email):\n",
    "        pass\n",
    "    \n",
    "class employe(pwskills):\n",
    "    def employe_details(self,name,employe_id,mo_num,email):\n",
    "        self.__name=name\n",
    "        self.__employe_id=employe_id\n",
    "        self.__mo_no=mo_num\n",
    "        self.__email=email\n",
    "        \n",
    "    def show_employe_details(self):\n",
    "        print(\"\\nEmploye details\")\n",
    "        print(\"name:\",self.__name)\n",
    "        print(\"Id :\",self.__employe_id)\n",
    "        print(\"mail:\",self.__email)\n",
    "        \n",
    "obj_employe1=employe()\n",
    "obj_employe1.employe_details(\"Avneesh\",10,7607241362,\"avneeshkumar1362@gmail.com\")\n",
    "\n",
    "obj_employe2=employe()\n",
    "obj_employe2.employe_details(\"Nitish kumr\",11,7275652982,\"nitishkumar@gmail.com\")\n",
    "\n",
    "        \n",
    "obj_employe1.show_employe_details()\n",
    "obj_employe2.show_employe_details()\n"
   ]
  },
  {
   "cell_type": "markdown",
   "id": "5a0aef9a-5069-4c19-9277-64d6070f2fef",
   "metadata": {},
   "source": [
    "### 10. What is the purpose of abstract methods, and how do they enforce abstraction in Python classes?\n"
   ]
  },
  {
   "cell_type": "markdown",
   "id": "f2a71b22-6797-4028-8477-024fc8710e0a",
   "metadata": {},
   "source": [
    "- So, by using the abstract classes, we can ensure that our subclasses use the same structure and same method names for similar tasks. Also, by using the abstract classes, we can hide unnecessary details from the user and reduce the programming complexity to a great extent."
   ]
  },
  {
   "cell_type": "markdown",
   "id": "5ea4d420-1134-43fe-8db7-166a0c412aa1",
   "metadata": {},
   "source": [
    "### 11. Create a Python class for a vehicle system and demonstrate abstraction by defining common methods (e.g., `start()`, `stop()`) in an abstract base class.\n"
   ]
  },
  {
   "cell_type": "code",
   "execution_count": 54,
   "id": "0f3709a6-8f33-44fa-910c-3389e297b2e7",
   "metadata": {},
   "outputs": [
    {
     "name": "stdout",
     "output_type": "stream",
     "text": [
      "Car is starting.\n",
      "Car is stopping.\n",
      "Bike is starting.\n",
      "Bike is stopping.\n"
     ]
    }
   ],
   "source": [
    "from abc import ABC, abstractmethod\n",
    "\n",
    "class Vehicle(ABC):\n",
    "    @abstractmethod\n",
    "    def start(self, action):\n",
    "        pass\n",
    "\n",
    "    @abstractmethod\n",
    "    def stop(self, action):\n",
    "        pass\n",
    "\n",
    "class Car(Vehicle):\n",
    "    def start(self, action):\n",
    "        print(action)\n",
    "\n",
    "    def stop(self, action):\n",
    "        print(action)\n",
    "\n",
    "class Bike(Vehicle):\n",
    "    def start(self, action):\n",
    "        print(action)\n",
    "\n",
    "    def stop(self, action):\n",
    "        print(action)\n",
    "\n",
    "# Demonstration\n",
    "if __name__ == \"__main__\":\n",
    "    a = Car()\n",
    "    a.start(\"Car is starting.\")\n",
    "    a.stop(\"Car is stopping.\")\n",
    "\n",
    "    b = Bike()\n",
    "    b.start(\"Bike is starting.\")\n",
    "\n",
    "    b.stop(\"Bike is stopping.\")"
   ]
  },
  {
   "cell_type": "markdown",
   "id": "4c20d3a7-2e6a-428a-839c-5dd78dfbf496",
   "metadata": {},
   "source": [
    "### 12. Describe the use of abstract properties in Python and how they can be employed in abstract classes.\n"
   ]
  },
  {
   "cell_type": "markdown",
   "id": "42f11ce4-de7f-4941-bca8-09158cc481e2",
   "metadata": {},
   "source": [
    "- The importance of abstract class in python that if our subclasses don't follow that blueprint python will give me error .thus we can make sure that our classes follow the stractures and implement all the abstract method defined in our class .\n",
    "- Abstract class in Python also provides the functionality of abstract properties in addition to abstract methods. Properties are Pythonic ways of using getters and setters. The abc module has a @abstractproperty decorator to use abstract properties. Just like abstract methods, we need to define abstract properties in implementation classes. Otherwise, Python will raise the error."
   ]
  },
  {
   "cell_type": "code",
   "execution_count": 64,
   "id": "d3dbdfca-f78a-4c77-9f42-e23a76c543c5",
   "metadata": {},
   "outputs": [
    {
     "name": "stdout",
     "output_type": "stream",
     "text": [
      "Student Details\n",
      "Name: Avneesh\n",
      "Id : 101\n",
      "Mail: avneeshkumar1362@gmail.com\n"
     ]
    }
   ],
   "source": [
    "### Example:\n",
    "from abc import ABC,abstractmethod\n",
    "\n",
    "class student(ABC):\n",
    "    @abstractmethod\n",
    "    def student_detils(self,name,st_id,mail):\n",
    "        pass\n",
    "    \n",
    "class school(student):\n",
    "    def student_detils(self,name,st_id,mail):\n",
    "        self.name=name\n",
    "        self.st_id=st_id\n",
    "        self.mail=mail\n",
    "        print(\"Student Details\")\n",
    "        print(\"Name:\",self.name)\n",
    "        print(\"Id :\",self.st_id)\n",
    "        print(\"Mail:\",self.mail)\n",
    "        \n",
    "a=school()\n",
    "a.student_detils(\"Avneesh\",101,\"avneeshkumar1362@gmail.com\")"
   ]
  },
  {
   "cell_type": "markdown",
   "id": "d6edd4a5-a16c-4687-93b9-9e2dc35f7279",
   "metadata": {},
   "source": [
    "### 13. Create a Python class hierarchy for employees in a company (e.g., manager, developer, designer) and implement abstraction by defining a common `get_salary()` method.\n"
   ]
  },
  {
   "cell_type": "code",
   "execution_count": 58,
   "id": "15854de9-f3fb-43f4-a392-ac8721a80847",
   "metadata": {},
   "outputs": [
    {
     "name": "stdout",
     "output_type": "stream",
     "text": [
      "\n",
      "Managers Salary\n",
      "Name: Niish\n",
      "Salary: 50000\n",
      "\n",
      "Devlopers Salary\n",
      "Name: Rahul\n",
      "Salary: 40000\n",
      "\n",
      "Desiners salary\n",
      "Name: Ruchi\n",
      "Salary: 30000\n"
     ]
    }
   ],
   "source": [
    "from abc import ABC,abstractmethod\n",
    "\n",
    "class company(ABC):\n",
    "    @abstractmethod\n",
    "    def get_salary(self,name,salary):\n",
    "        pass \n",
    "class manager(company):\n",
    "    def get_salary(self,name,salary):\n",
    "        self.name=name\n",
    "        self.salary=salary\n",
    "        print(\"\\nManagers Salary\")\n",
    "        print(\"Name:\",self.name)\n",
    "        print(\"Salary:\",self.salary)\n",
    "        \n",
    "\n",
    "class developer(company):\n",
    "    def get_salary(self,name,salary):\n",
    "        self.name=name\n",
    "        self.salary=salary\n",
    "        print(\"\\nDevlopers Salary\")\n",
    "        print(\"Name:\",self.name)\n",
    "        print(\"Salary:\",self.salary)\n",
    "\n",
    "class designer(company):\n",
    "    def get_salary(self,name,salary):\n",
    "        self.name=name\n",
    "        self.salary=salary\n",
    "        print(\"\\nDesiners salary\")\n",
    "        print(\"Name:\",self.name)\n",
    "        print(\"Salary:\",self.salary)\n",
    "\n",
    "\n",
    "obj_manager=manager()\n",
    "obj_manager.get_salary(\"Niish\",50000)\n",
    "\n",
    "obj_developer=developer()\n",
    "obj_developer.get_salary(\"Rahul\",40000)\n",
    "\n",
    "obj_desi=designer()\n",
    "obj_desi.get_salary(\"Ruchi\",30000)"
   ]
  },
  {
   "cell_type": "markdown",
   "id": "46e9b113-1213-418b-ba3e-05094add3574",
   "metadata": {},
   "source": [
    "### 14. Discuss the differences between abstract classes and concrete classes in Python, including their instantiation.\n"
   ]
  },
  {
   "cell_type": "markdown",
   "id": "9116f912-dd85-41ec-a454-c6e5769e4baf",
   "metadata": {},
   "source": [
    "- However, you can use abstract classes to create an interface-like behavior by declaring all the methods as abstract and not providing any implementation. Next, let's compare abstract classes to concrete classes. A concrete class is a class that can be instantiated and used on its own, without needing to be subclassed."
   ]
  },
  {
   "cell_type": "markdown",
   "id": "911e1aff-3bfa-4bed-abf8-541b70b160d1",
   "metadata": {},
   "source": [
    "### 15. Explain the concept of abstract data types (ADTs) and their role in achieving abstraction in Python.\n"
   ]
  },
  {
   "cell_type": "markdown",
   "id": "bcec6a0d-f7a2-4e8c-8e06-5e866ef7f7f7",
   "metadata": {},
   "source": [
    "- What is ADT? The abstract data type is special kind of data type, whose behavior is defined by a set of values and set of operations. The keyword “Abstract” is used as we can use these data types, we can perform different operations. But how those operations are working that is totally hidden from the user\n",
    "\n",
    "- before understanding what ADT is let us consider different in-built data types that are provided to us. Data types such as int, float, double, long, etc. are considered to be in-built data types and we can perform basic operations with them such as addition, subtraction, division, multiplication, etc. Now there might be a situation when we need operations for our user-defined data type which have to be defined. These operations can be defined only as and when we require them. So, in order to simplify the process of solving problems, we can create data structures along with their operations, and such data structures that are not in-built are known as Abstract Data Type (ADT).\n",
    "- Abstract Data type (ADT) is a type (or class) for objects whose behavior is defined by a set of values and a set of operations. The definition of ADT only mentions what operations are to be performed but not how these operations will be implemented. It does not specify how data will be organized in memory and what algorithms will be used for implementing the operations. It is called “abstract” because it gives an implementation-independent view. \n",
    "\n",
    "- The process of providing only the essentials and hiding the details is known as abstraction. \n",
    "- The user of data type does not need to know how that data type is implemented, for example, we have been using Primitive values like int, float, char data types only with the knowledge that these data type can operate and be performed on without any idea of how they are implemented. \n",
    "\n",
    "- So a user only needs to know what a data type can do, but not how it will be implemented. Think of ADT as a black box which hides the inner structure and design of the data type. Now we’ll define three ADTs namely List ADT, Stack ADT, Queue ADT."
   ]
  },
  {
   "cell_type": "markdown",
   "id": "d59d7461-7650-4e97-91f5-2e01a025e425",
   "metadata": {},
   "source": [
    "### 16. Create a Python class for a computer system, demonstrating abstraction by defining common methods (e.g., `power_on()`, `shutdown()`) in an abstract base class.\n"
   ]
  },
  {
   "cell_type": "code",
   "execution_count": 9,
   "id": "46c1defd-5852-47f9-8e49-1df1af94b4d0",
   "metadata": {},
   "outputs": [
    {
     "name": "stdout",
     "output_type": "stream",
     "text": [
      "Computer power on\n",
      "computer power on\n"
     ]
    }
   ],
   "source": [
    "from abc import ABC ,abstractmethod\n",
    "class coumputer_system(ABC):\n",
    "    @abstractmethod\n",
    "    def power_on(self):\n",
    "        pass\n",
    "    @abstractmethod\n",
    "    def shutdow(self):\n",
    "        pass \n",
    "class computer(coumputer_system):\n",
    "    def power_on(self):\n",
    "        print(\"Computer power on\")\n",
    "        \n",
    "    def shutdow(self):\n",
    "        print(\"computer power on\")\n",
    "obj=computer()\n",
    "obj.power_on()\n",
    "obj.shutdow()"
   ]
  },
  {
   "cell_type": "markdown",
   "id": "16978b03-02d5-4fd1-8901-ab746f70debe",
   "metadata": {},
   "source": [
    "### 17. Discuss the benefits of using abstraction in large-scale software development projects.\n"
   ]
  },
  {
   "cell_type": "markdown",
   "id": "1f2a05f1-c18b-4067-958f-7d68750aef00",
   "metadata": {},
   "source": [
    "- Whenever we create the large - scale software development project we need to use the abstraction,Who is managing this intire project he rovides me a outline of the intire project b/c there are many developers or may be many managers who is managing this intire project he say ,every follow these classes and these function and any developer cant't create our own function or methods .lets supse nitish is going to give a difinition of the perticular function by making sure that without changing the bluprint of the classes and objects .\n",
    "   \n",
    "   \n",
    "   1 - By definig the abstraction any developer can't create our own method or own function inside the project .\n",
    "   2 - by creating the abstraction manager divide all over the project inside the our developers or may be helpers \n",
    "   3 - by creating the the abstraction complexicity of the project get redused .\n",
    "   4 - by creating the abstraction very easy to find out the classe.\n",
    "   4 - If any develover trying to create own function or own method in that situatin it gives me error .\n",
    "   5 - Abstraction enhance the code reusability and modularity of the code ."
   ]
  },
  {
   "cell_type": "markdown",
   "id": "e93814aa-f483-4148-a66f-610aec109781",
   "metadata": {},
   "source": [
    "### 18. Explain how abstraction enhances code reusability and modularity in Python programs.\n",
    "#### Modularity :-\n",
    "- Modularity refers to the concept of making multiple modules first and then linking and combining them to form a complete system (i.e, the extent to which a software/Web application may be divided into smaller modules is called modularity). Modularity enables re-usability and will minimize duplication.\n",
    "\n",
    "- ----------------------------------------------------------------------------------------------------------------------\n",
    "- Abstraction and modularity are two key principles that can help simplify coding projects by breaking them down into smaller, more manageable pieces. Abstraction is the process of taking something complex and breaking it down into simpler, more manageable parts, while modularity is the practice of creating self-contained, reusable units of code. By using abstraction and modularity, developers can create code that is easier to understand, maintain, and modify, which can ultimately lead to a more efficient and effective development process. Additionally, abstraction and modularity can help improve the scalability and reliability of a codebase by making it easier to add new features or fix bugs without affecting the rest of the code.\n",
    "\n",
    "\n"
   ]
  },
  {
   "cell_type": "markdown",
   "id": "68af7c69-857b-460e-a978-aa1804fc9f26",
   "metadata": {},
   "source": [
    "### 19. Create a Python class for a library system, implementing abstraction by defining common methods (e.g., `add_book()`, `borrow_book()`) in an abstract base class.\n"
   ]
  },
  {
   "cell_type": "code",
   "execution_count": 26,
   "id": "549dae94-4db4-4bb3-8f3c-c589377d655b",
   "metadata": {},
   "outputs": [
    {
     "name": "stdout",
     "output_type": "stream",
     "text": [
      "You have borrowed Rich dad and poor dad\n"
     ]
    },
    {
     "data": {
      "text/plain": [
       "('Available books:', ['How to think sucessfull people'])"
      ]
     },
     "execution_count": 26,
     "metadata": {},
     "output_type": "execute_result"
    }
   ],
   "source": [
    "from abc import ABC,abstractmethod\n",
    "class library(ABC):\n",
    "    def __init__(self):\n",
    "        self.book_name=[]\n",
    "    @abstractmethod\n",
    "    def add_books(self,*book):\n",
    "        pass \n",
    "    @abstractmethod\n",
    "    def borrow_book(self,book_name):\n",
    "        pass\n",
    "    @abstractmethod\n",
    "    def display_book(self):\n",
    "        pass \n",
    "    \n",
    "class library:\n",
    "    def __init__(self):\n",
    "        self.book_names=[]\n",
    "        \n",
    "    def add_books(self,*book):\n",
    "        self.book_names.extend(book)\n",
    "    def borrow_book(self,book_name):\n",
    "        if book_name in self.book_names:\n",
    "            self.book_names.remove(book_name)\n",
    "            print(f\"You have borrowed {book_name}\")\n",
    "        else:\n",
    "            return f\"Your book is not available\"\n",
    "        \n",
    "    def display_book(self):\n",
    "        return \"Available books:\",self.book_names\n",
    "    \n",
    "obje=library()\n",
    "obje.add_books(\"How to think sucessfull people\",\"Rich dad and poor dad\")\n",
    "obje.borrow_book(\"Rich dad and poor dad\")\n",
    "obje.display_book()\n",
    "    "
   ]
  },
  {
   "cell_type": "markdown",
   "id": "6e6398cd-f4cb-47bf-bb39-c7da7000d5d9",
   "metadata": {},
   "source": [
    "### 20. Describe the concept of method abstraction in Python and how it relates to polymorphism."
   ]
  },
  {
   "cell_type": "markdown",
   "id": "1cd9d55e-ea5c-44d1-a6a3-71bd89831c45",
   "metadata": {},
   "source": [
    "- Abstraction allows us to create interfaces and classes that provide a clear and simple way to interact with complex systems, while polymorphism allows us to write code that can work with objects of various types without needing to know the specific details of each type."
   ]
  },
  {
   "cell_type": "markdown",
   "id": "d73411fe-9439-42d1-aea5-e2dcb436b61e",
   "metadata": {},
   "source": [
    "## Composition:\n"
   ]
  },
  {
   "cell_type": "markdown",
   "id": "4fabf456-1792-4941-8d5b-5688b70e4229",
   "metadata": {},
   "source": [
    "### 1. Explain the concept of composition in Python and how it is used to build complex objects from simpler ones.\n"
   ]
  },
  {
   "cell_type": "markdown",
   "id": "5d3d4bec-0868-4142-ad04-9facab9b8f93",
   "metadata": {},
   "source": [
    "- Basicly it is a way by which you will be able to may be a complex object by combining the simplest one that is the diffinition of composition. so composition means its can be anything whenever i am trying to use a simplest object & trying to create a the complexicity inside it that is something called as composition ."
   ]
  },
  {
   "cell_type": "code",
   "execution_count": 28,
   "id": "224e5b4f-fcac-4ad1-9fbf-fb12dd9afec2",
   "metadata": {},
   "outputs": [
    {
     "data": {
      "text/plain": [
       "'Student details'"
      ]
     },
     "execution_count": 28,
     "metadata": {},
     "output_type": "execute_result"
    }
   ],
   "source": [
    "#### Example:-\n",
    "class pwskills :\n",
    "    def student(self):\n",
    "        return \"Student details\"\n",
    "class data_science:\n",
    "    def __init__(self):\n",
    "        self.student=pwskills()\n",
    "        \n",
    "ds=data_science()\n",
    "ds.student.student()"
   ]
  },
  {
   "cell_type": "markdown",
   "id": "832b2135-bd8c-40e3-94dc-a622b5f344cd",
   "metadata": {},
   "source": [
    "### 2. Describe the difference between composition and inheritance in object-oriented programming.\n"
   ]
  },
  {
   "cell_type": "markdown",
   "id": "e4286239-c3f3-4046-a29d-3f9f89cc95ff",
   "metadata": {},
   "source": [
    "- Composition is nothing but iside that we try to create complex object by combining the smplest objects but inheritance in object orianted programing concept is tryin to inhirit some sort of propertiese or may be some kind of a methodes from the parent class inside the child class ."
   ]
  },
  {
   "cell_type": "code",
   "execution_count": 30,
   "id": "a744a6f1-789f-4405-be66-1ebef1fac00d",
   "metadata": {},
   "outputs": [
    {
     "data": {
      "text/plain": [
       "'Student details'"
      ]
     },
     "execution_count": 30,
     "metadata": {},
     "output_type": "execute_result"
    }
   ],
   "source": [
    "### Example Of composition:-\n",
    "class pwskills :\n",
    "    def student(self):\n",
    "        return \"Student details\"\n",
    "class data_science:\n",
    "    def __init__(self):\n",
    "        self.student=pwskills()\n",
    "        \n",
    "ds=data_science()\n",
    "ds.student.student()"
   ]
  },
  {
   "cell_type": "code",
   "execution_count": 31,
   "id": "088f9826-5cb2-471a-b3d9-d67147d2cf1e",
   "metadata": {},
   "outputs": [
    {
     "name": "stdout",
     "output_type": "stream",
     "text": [
      "Area of circle: 314.0\n",
      "Area of rectangle: 200\n"
     ]
    }
   ],
   "source": [
    "### Example of inheritance:-\n",
    "class shape:\n",
    "    def __init__(self,length=0,width=0,height=0):\n",
    "        self.length=length\n",
    "        self.width=width\n",
    "        self.height=height\n",
    "        \n",
    "        \n",
    "class circle(shape):\n",
    "    def cal_area(self):\n",
    "        area=self.width*self.width*3.14\n",
    "        print(\"Area of circle:\",area)\n",
    "        \n",
    "class rectangle(shape):\n",
    "    def cal_area(self):\n",
    "        area=self.length*self.width\n",
    "        print(\"Area of rectangle:\",area)\n",
    "        \n",
    "        \n",
    "area_of_circle=circle(width=10)\n",
    "area_of_circle.cal_area()\n",
    "\n",
    "area_of_rectangle=rectangle(length=10,width=20)\n",
    "area_of_rectangle.cal_area()\n"
   ]
  },
  {
   "cell_type": "markdown",
   "id": "345a6087-ac6a-4fda-86c3-158ccf5d0660",
   "metadata": {},
   "source": [
    "### 3. Create a Python class called `Author` with attributes for name and birthdate. Then, create a `Book` class that contains an instance of `Author` as a composition. Provide an example of creating a `Book` object.\n"
   ]
  },
  {
   "cell_type": "code",
   "execution_count": 48,
   "id": "2f166f46-f01d-415a-8331-96891c1cd3f3",
   "metadata": {},
   "outputs": [
    {
     "name": "stdout",
     "output_type": "stream",
     "text": [
      "Author Name: JJR TOLKIEN\n",
      "Author DOB: 03/01/1892\n"
     ]
    }
   ],
   "source": [
    "class author:\n",
    "    def __init__(self):\n",
    "        self.name=\"JJR TOLKIEN\"\n",
    "        self.date=\"03/01/1892\"\n",
    "        \n",
    "    def print_details(self):\n",
    "        print(\"Author Name:\",self.name)\n",
    "        print(\"Author DOB:\",self.date)\n",
    "class book:\n",
    "    def __init__(self):\n",
    "        self.book=author()\n",
    "a=book()\n",
    "\n",
    "a.book.print_details()\n",
    "\n",
    "        "
   ]
  },
  {
   "cell_type": "markdown",
   "id": "fabd1172-6f99-466d-bfa4-c70e5b91896a",
   "metadata": {},
   "source": [
    "### 4. Discuss the benefits of using composition over inheritance in Python, especially in terms of code flexibility and reusability.\n"
   ]
  },
  {
   "cell_type": "markdown",
   "id": "1b186954-e8c5-4761-9924-9bc2d9ed47b2",
   "metadata": {},
   "source": [
    "- Composition enables you to reuse code by adding objects to other objects, as opposed to inheriting the interface and implementation of other classes. Both Horse and Dog classes can leverage the functionality of Tail through composition without deriving one class from the other."
   ]
  },
  {
   "cell_type": "markdown",
   "id": "9ce49e98-aedd-48a6-ac8c-56ee1b81302a",
   "metadata": {},
   "source": [
    "### 5. How can you implement composition in Python classes? Provide examples of using composition to create complex objects.\n"
   ]
  },
  {
   "cell_type": "markdown",
   "id": "1a7adb00-7904-4760-93e3-138fb22fe3aa",
   "metadata": {},
   "source": [
    "- for the implementation of composition we have a minimum two classes lets try to understand with example lets supose i have create a one class name pwskils and inside that we crate the function name student and inside this function we gives the diffinition and then we have create the another class name data_science and inside that we have create the pwskills class objects and then outside of both classes we create the data_science class objects and with the help of data_sciece class object we call the object of pwskils and achieve the composition."
   ]
  },
  {
   "cell_type": "code",
   "execution_count": 50,
   "id": "9d4654de-8802-42a6-baf2-eddd3b9d9b98",
   "metadata": {},
   "outputs": [
    {
     "data": {
      "text/plain": [
       "'Student details'"
      ]
     },
     "execution_count": 50,
     "metadata": {},
     "output_type": "execute_result"
    }
   ],
   "source": [
    "### Example Of composition:-\n",
    "class pwskills :\n",
    "    def student(self):\n",
    "        return \"Student details\"\n",
    "class data_science:\n",
    "    def __init__(self):\n",
    "        self.student=pwskills()\n",
    "        \n",
    "ds=data_science()\n",
    "ds.student.student()"
   ]
  },
  {
   "cell_type": "markdown",
   "id": "03bf6bdf-3081-4098-a0a1-9568aba749d9",
   "metadata": {},
   "source": [
    "### 6. Create a Python class hierarchy for a music player system, using composition to represent playlists and songs.\n"
   ]
  },
  {
   "cell_type": "code",
   "execution_count": 52,
   "id": "6c98e626-dd73-4453-9c6e-dafbd7dc5682",
   "metadata": {},
   "outputs": [
    {
     "name": "stdout",
     "output_type": "stream",
     "text": [
      "Playlist\n",
      "Songs\n"
     ]
    }
   ],
   "source": [
    "class music_player:\n",
    "    def playlist(self):\n",
    "        print(\"Playlist\")\n",
    "        \n",
    "    def songs(self):\n",
    "        print(\"Songs\")\n",
    "        \n",
    "class music_player_system:\n",
    "    def __init__(self):\n",
    "        self.music_player=music_player()\n",
    "a=music_player_system()\n",
    "a.music_player.playlist()\n",
    "a.music_player.songs()"
   ]
  },
  {
   "cell_type": "markdown",
   "id": "83e8ba63-ef3a-459e-bb23-9bf9209b44c7",
   "metadata": {},
   "source": [
    "### 7. Explain the concept of \"has-a\" relationships in composition and how it helps design software systems.\n"
   ]
  },
  {
   "cell_type": "markdown",
   "id": "5e82ca55-99d2-47e0-9212-2f0cc7042bf0",
   "metadata": {},
   "source": [
    "####  Has-a relationship:- \n",
    "- To acess the data member of a class in same program or inside the another program by the creting of a object so that is some thing called as has-a relationship.\n",
    "- inside the design software system have a many filters or many cuting tools to acess these any tool in a one go by creating a one object for the perticular acess be crate the perticular object ,for example i have create one object for all the filter and i have create the one object for the cuting tools thats why has-a relationship helps in the design software system."
   ]
  },
  {
   "cell_type": "markdown",
   "id": "fc6186a6-5f65-43e7-9525-fb480846e1ee",
   "metadata": {},
   "source": [
    "### 8. Create a Python class for a computer system, using composition to represent components like CPU, RAM, and storage devices.\n"
   ]
  },
  {
   "cell_type": "code",
   "execution_count": 55,
   "id": "3c5aba27-f579-4b6c-b1e6-f122ac4f424f",
   "metadata": {},
   "outputs": [
    {
     "name": "stdout",
     "output_type": "stream",
     "text": [
      "Full form of cpu is central processing unit\n",
      "Full form of RAM is random acess memory\n",
      "Your storage is full\n"
     ]
    }
   ],
   "source": [
    "class computer:\n",
    "    def CPU(self):\n",
    "        print(\"Full form of cpu is central processing unit\")\n",
    "        \n",
    "    def RAM(self):\n",
    "        print(\"Full form of RAM is random acess memory\")\n",
    "        \n",
    "    def storage_device(self):\n",
    "        print(\"Your storage is full\")\n",
    "        \n",
    "class computer_system:\n",
    "    def __init__(self):\n",
    "        self.com=computer()\n",
    "        \n",
    "c=computer_system()\n",
    "c.com.CPU()\n",
    "c.com.RAM()\n",
    "c.com.storage_device()"
   ]
  },
  {
   "cell_type": "markdown",
   "id": "71a0985b-492a-485d-a07f-33b3449409f4",
   "metadata": {},
   "source": [
    "### 9. Describe the concept of \"delegation\" in composition and how it simplifies the design of complex systems.\n"
   ]
  },
  {
   "cell_type": "markdown",
   "id": "31666a7e-fb72-4565-9de4-5942d30d778b",
   "metadata": {},
   "source": [
    "- Delegation, on the other hand, involves creating a new class that contains an instance of the existing class and delegates some of its responsibilities to it. This allows for greater flexibility and modularity in the design, as well as better control over the interactions between"
   ]
  },
  {
   "cell_type": "markdown",
   "id": "fa6f99e2-52e1-4e4a-823a-bf3bba502dca",
   "metadata": {},
   "source": [
    "### 10. Create a Python class for a car, using composition to represent components like the engine, wheels, and transmission.\n"
   ]
  },
  {
   "cell_type": "code",
   "execution_count": 57,
   "id": "999eb262-7f91-4f47-a0a6-ebe9b4ca3a7b",
   "metadata": {},
   "outputs": [
    {
     "name": "stdout",
     "output_type": "stream",
     "text": [
      "Every car have atleast one engine\n",
      "Every car have four wheel\n",
      "Some car has a automatic transmission and some car has a manual transmission\n"
     ]
    }
   ],
   "source": [
    "class car:\n",
    "    def engine(self):\n",
    "        print(\"Every car have atleast one engine\")\n",
    "    def wheel(self):\n",
    "        print(\"Every car have four wheel\")\n",
    "    def transmission(self):\n",
    "        print(\"Some car has a automatic transmission and some car has a manual transmission\")\n",
    "class car_system:\n",
    "    def __init__(self):\n",
    "        self.car_parts=car()\n",
    "        \n",
    "c=car_system()\n",
    "c.car_parts.engine()\n",
    "c.car_parts.wheel()\n",
    "c.car_parts.transmission()"
   ]
  },
  {
   "cell_type": "markdown",
   "id": "89055942-a1f7-41e7-afff-8e6594d526b2",
   "metadata": {},
   "source": [
    "### 11. How can you encapsulate and hide the details of composed objects in Python classes to maintain abstraction?\n"
   ]
  },
  {
   "cell_type": "markdown",
   "id": "7755463c-67ff-4260-8e8b-473ea78044ce",
   "metadata": {},
   "source": [
    "- Encapsulation in Python refers to the practice of hiding the implementation details of an object or class, and only exposing a public interface for interacting with it. Encapsulation is achieved through the use of access modifiers such as 'public', 'private', and 'protected'."
   ]
  },
  {
   "cell_type": "markdown",
   "id": "8f6fde37-eed8-4020-95a2-742f4084dded",
   "metadata": {},
   "source": [
    "### 12. Create a Python class for a university course, using composition to represent students, instructors, an course materials.\n"
   ]
  },
  {
   "cell_type": "code",
   "execution_count": 58,
   "id": "53697f88-e39e-45f0-a12d-399032e9ab79",
   "metadata": {},
   "outputs": [
    {
     "name": "stdout",
     "output_type": "stream",
     "text": [
      "Inside my univesity have a these courcess -\n",
      "1- Nurcing\n",
      "2-B pharma\n",
      "3-D Pharma\n",
      "4-BSC\n",
      "All cource material provides by my university\n",
      "Instructors in my university\n",
      "Nursing Faculties\n",
      "University Professors\n",
      "After School Instructors\n",
      "Inside my university has a 3000 students\n"
     ]
    }
   ],
   "source": [
    "class university:\n",
    "    def cource(self):\n",
    "        print('Inside my univesity have a these courcess -')\n",
    "        print(\"1- Nurcing\")\n",
    "        print(\"2-B pharma\")\n",
    "        print(\"3-D Pharma\")\n",
    "        print(\"4-BSC\")\n",
    "        \n",
    "    def student(self):\n",
    "        print(\"Inside my university has a 3000 students\")\n",
    "    def instructors(self):\n",
    "        print(\"Instructors in my university\")\n",
    "        print(\"Nursing Faculties\")\n",
    "        print(\"University Professors\")\n",
    "        print(\"After School Instructors\")\n",
    "    def cource_material(self):\n",
    "        print(\"All cource material provides by my university\")\n",
    "        \n",
    "class university_system:\n",
    "    def __init__(self):\n",
    "        self.uni=university()\n",
    "        \n",
    "U=university_system()\n",
    "U.uni.cource()\n",
    "U.uni.cource_material()\n",
    "U.uni.instructors()\n",
    "U.uni.student()\n",
    "\n"
   ]
  },
  {
   "cell_type": "markdown",
   "id": "6a32c210-1aab-4b85-9a7a-22accdc3485c",
   "metadata": {},
   "source": [
    "### 13. Discuss the challenges and drawbacks of composition, such as increased complexity and potential for tight coupling between objects.\n"
   ]
  },
  {
   "cell_type": "markdown",
   "id": "74bef64b-6bcb-4c92-a57a-c33c3f7ce20b",
   "metadata": {},
   "source": [
    "#### Drawbacks :-\n",
    "- One common drawback of using composition instead of inheritance is that methods being provided by individual components may have to be implemented in the derived type, even if they are only forwarding methods (this is true in most programming languages, but not all; see & Avoiding drawbacks)."
   ]
  },
  {
   "cell_type": "markdown",
   "id": "a1937ab1-4821-4f9e-a794-fb2260c3205d",
   "metadata": {},
   "source": [
    "### 14. Create a Python class hierarchy for a restaurant system, using composition to represent menus, dishes, and ingredients.\n"
   ]
  },
  {
   "cell_type": "code",
   "execution_count": 60,
   "id": "ced03d7c-d242-4180-914d-ba967c1ce0f2",
   "metadata": {},
   "outputs": [
    {
     "name": "stdout",
     "output_type": "stream",
     "text": [
      "My restaurant menus\n",
      "1-Dahi bara -----------price---50₹(one plate)\n",
      "2-Dal makhni-----------price---60₹(one Plate)\n",
      "3-Sahi panir-----------price----80₹(one plate)\n",
      "3-Roasted chiken-------price-----150₹(one plate)\n",
      "Eggs, milk and milk products.\n",
      "Fats and oils.\n",
      "Fruits.\n",
      "rain, nuts and baking products.\n",
      "1-Gluten Free Chocolate Cake, Jinju Patisserie\n",
      "2-Sweet Potato and Pecan Taco, Nixta\n",
      "3-Grilled Dorade, Vernick Fish\n"
     ]
    }
   ],
   "source": [
    "class restaurant:\n",
    "    def menus(self):\n",
    "        print(\"My restaurant menus\")\n",
    "        print(\"1-Dahi bara -----------price---50₹(one plate)\")\n",
    "        print(\"2-Dal makhni-----------price---60₹(one Plate)\")\n",
    "        print(\"3-Sahi panir-----------price----80₹(one plate)\")\n",
    "        print(\"3-Roasted chiken-------price-----150₹(one plate)\")\n",
    "    def dishes(self):\n",
    "        print(\"1-Gluten Free Chocolate Cake, Jinju Patisserie\")\n",
    "        print(\"2-Sweet Potato and Pecan Taco, Nixta\")\n",
    "        print(\"3-Grilled Dorade, Vernick Fish\")\n",
    "        \n",
    "    def Ingridients(self):\n",
    "        print(\"Eggs, milk and milk products.\")\n",
    "        print(\"Fats and oils.\")\n",
    "        print(\"Fruits.\")\n",
    "        print(\"rain, nuts and baking products.\")\n",
    "\n",
    "class restaurant_system:\n",
    "    def __init__(self):\n",
    "        self.resta=restaurant()\n",
    "        \n",
    "r=restaurant_system()\n",
    "r.resta.menus()\n",
    "r.resta.Ingridients()\n",
    "r.resta.dishes()\n",
    "\n"
   ]
  },
  {
   "cell_type": "markdown",
   "id": "696014df-dd41-4221-82d1-0eeaa8ecc7c5",
   "metadata": {},
   "source": [
    "### 15. Explain how composition enhances code maintainability and modularity in Python programs.\n"
   ]
  },
  {
   "cell_type": "markdown",
   "id": "ba678cc6-c875-4e5a-93cb-0640cfa70978",
   "metadata": {},
   "source": [
    "- Composition, on the other hand, involves creating relationships between classes by including instances of other classes within a class. Instead of relying on an “is-a” relationship, composition fosters a “has-a” relationship. \n",
    "\n",
    "- This approach promotes flexibility and allows for a more modular design. Components can be swapped or modified without affecting the entire structure. Composition is particularly useful in scenarios where there is no clear hierarchical relationship between objects, or where flexibility and maintainability are top priorities.\n",
    "-  Components can be modified or replaced independently, promoting a more modular and maintainable design."
   ]
  },
  {
   "cell_type": "markdown",
   "id": "31422b57-1f59-4f74-8f1c-2d83aab7c40f",
   "metadata": {},
   "source": [
    "\n",
    "### 16. Create a Python class for a computer game character, using composition to represent attributes like weapons, armor, and inventory.\n"
   ]
  },
  {
   "cell_type": "code",
   "execution_count": 6,
   "id": "820c91ac-cdd4-423b-8713-e473538b4b2d",
   "metadata": {},
   "outputs": [
    {
     "name": "stdout",
     "output_type": "stream",
     "text": [
      "Armor\n",
      "inventory\n",
      "Please take the weapen\n"
     ]
    }
   ],
   "source": [
    "class computer_game:\n",
    "    def weapons(self):\n",
    "        print(\"Please take the weapen\")\n",
    "        \n",
    "    def armor(self):\n",
    "        print(\"Armor\")\n",
    "    def inventory(self):\n",
    "        print(\"inventory\")\n",
    "class computers_game:\n",
    "    def __init__(self):\n",
    "        self.com=computer_game()\n",
    "        \n",
    "c=computers_game()\n",
    "c.com.armor()\n",
    "c.com.inventory()\n",
    "c.com.weapons()"
   ]
  },
  {
   "cell_type": "markdown",
   "id": "86a0c438-3fb6-4051-a880-5a6eec2f754e",
   "metadata": {},
   "source": [
    "### 17. Describe the concept of \"aggregation\" in composition and how it differs from simple composition.\n"
   ]
  },
  {
   "cell_type": "markdown",
   "id": "434263ac-d607-4124-9c93-4e2799e2991f",
   "metadata": {},
   "source": [
    "- When an object can access another object then that relationship is called aggregation. Objects can exist independently in this relationship. We can define it in a more concise way, aggregation is when an object of one class can own or access the object of another class."
   ]
  },
  {
   "cell_type": "code",
   "execution_count": 7,
   "id": "07b59ed4-4d46-475b-ad36-bd94304797a2",
   "metadata": {},
   "outputs": [
    {
     "name": "stdout",
     "output_type": "stream",
     "text": [
      "Comment\n",
      "Posts sucessfully\n"
     ]
    }
   ],
   "source": [
    "class social_media:\n",
    "    def posts(self):\n",
    "        print(\"Posts sucessfully\")\n",
    "    def comments(self):\n",
    "        print(\"Comment\")\n",
    "class social_media_details:\n",
    "    def __init__(self):\n",
    "        self.social=social_media()\n",
    "s=social_media_details()\n",
    "s.social.comments()\n",
    "s.social.posts()"
   ]
  },
  {
   "cell_type": "markdown",
   "id": "eff65b39-d08d-4b28-ba88-56d342d4f62f",
   "metadata": {},
   "source": [
    "### 18. Create a Python class for a house, using composition to represent rooms, furniture, and appliances.\n"
   ]
  },
  {
   "cell_type": "code",
   "execution_count": 4,
   "id": "0daa7632-2a33-4dd8-ad78-c4bbc02e5253",
   "metadata": {},
   "outputs": [
    {
     "name": "stdout",
     "output_type": "stream",
     "text": [
      "This is a appliances\n",
      "This is a furniture \n",
      "This is a room\n"
     ]
    }
   ],
   "source": [
    "class house:\n",
    "    def rooms(self):\n",
    "        print(\"This is a room\")\n",
    "        \n",
    "    def furniture(self):\n",
    "        print(\"This is a furniture \")\n",
    "        \n",
    "    def appliances(self):\n",
    "        print(\"This is a appliances\")\n",
    "        \n",
    "class house_details:\n",
    "    def __init__(self):\n",
    "        self.house=house()\n",
    "        \n",
    "a=house_details()\n",
    "a.house.appliances()\n",
    "a.house.furniture()\n",
    "a.house.rooms()"
   ]
  },
  {
   "cell_type": "markdown",
   "id": "bd72cc69-b9aa-4683-b044-81241d86e579",
   "metadata": {},
   "source": [
    "### 19. How can you achieve flexibility in composed objects by allowing them to be replaced or modified dynamically at runtime?\n"
   ]
  },
  {
   "cell_type": "markdown",
   "id": "0779dfe5-4a4d-4c88-ba07-a51c507e467e",
   "metadata": {},
   "source": [
    "- You can use dynamic typing to create and use objects that have properties and methods that are determined at runtime, rather than at design time. This way, you can change the structure and behavior of the system at runtime, without recompiling or redeploying the code."
   ]
  },
  {
   "cell_type": "markdown",
   "id": "e232e605-7987-41d6-897b-5151181089df",
   "metadata": {},
   "source": [
    "### 20. Create a Python class for a social media application, using composition to represent users, posts, and comments.\n",
    "\n"
   ]
  },
  {
   "cell_type": "code",
   "execution_count": 5,
   "id": "dbf299cb-a297-480e-aeaf-340d597b4803",
   "metadata": {},
   "outputs": [
    {
     "name": "stdout",
     "output_type": "stream",
     "text": [
      "Comment\n",
      "Posts sucessfully\n"
     ]
    }
   ],
   "source": [
    "class social_media:\n",
    "    def posts(self):\n",
    "        print(\"Posts sucessfully\")\n",
    "    def comments(self):\n",
    "        print(\"Comment\")\n",
    "class social_media_details:\n",
    "    def __init__(self):\n",
    "        self.social=social_media()\n",
    "s=social_media_details()\n",
    "s.social.comments()\n",
    "s.social.posts()"
   ]
  }
 ],
 "metadata": {
  "kernelspec": {
   "display_name": "Python 3 (ipykernel)",
   "language": "python",
   "name": "python3"
  },
  "language_info": {
   "codemirror_mode": {
    "name": "ipython",
    "version": 3
   },
   "file_extension": ".py",
   "mimetype": "text/x-python",
   "name": "python",
   "nbconvert_exporter": "python",
   "pygments_lexer": "ipython3",
   "version": "3.10.8"
  }
 },
 "nbformat": 4,
 "nbformat_minor": 5
}
